{
 "cells": [
  {
   "cell_type": "code",
   "execution_count": 1,
   "metadata": {},
   "outputs": [],
   "source": [
    "import pandas as pd\n",
    "import numpy as np\n",
    "import matplotlib.pyplot as plt\n",
    "import time"
   ]
  },
  {
   "cell_type": "markdown",
   "metadata": {},
   "source": [
    "## Data cleaning"
   ]
  },
  {
   "cell_type": "markdown",
   "metadata": {},
   "source": [
    "### Loading the raw dataset\n",
    "- There were some ***non ascii character*** in the raw dataset, so we used **unicode_escape** to load the data"
   ]
  },
  {
   "cell_type": "code",
   "execution_count": 2,
   "metadata": {},
   "outputs": [],
   "source": [
    "# data = pd.read_csv(\"data/nba-hall-of-fame.csv\", encoding = 'unicode_escape')\n",
    "# print(data.shape)\n",
    "# data.head()"
   ]
  },
  {
   "cell_type": "markdown",
   "metadata": {},
   "source": [
    "### Removing the garbage column"
   ]
  },
  {
   "cell_type": "code",
   "execution_count": 3,
   "metadata": {},
   "outputs": [],
   "source": [
    "# data = data.iloc[:, :-5]\n",
    "# data = data.iloc[:, 1:]"
   ]
  },
  {
   "cell_type": "markdown",
   "metadata": {},
   "source": [
    "### Saving the updated dataframe as csv"
   ]
  },
  {
   "cell_type": "code",
   "execution_count": 4,
   "metadata": {},
   "outputs": [],
   "source": [
    "# data.to_csv(\"nba-hall-of-fame.csv\", index = None, header=True)"
   ]
  },
  {
   "cell_type": "markdown",
   "metadata": {},
   "source": [
    "### As a result of using unicode_escape, we have some unicode character in the name column. So we had to clean that up manually."
   ]
  },
  {
   "cell_type": "markdown",
   "metadata": {},
   "source": [
    "## Working with the filtered dataset"
   ]
  },
  {
   "cell_type": "code",
   "execution_count": 5,
   "metadata": {
    "scrolled": true
   },
   "outputs": [
    {
     "name": "stdout",
     "output_type": "stream",
     "text": [
      "(200, 13)\n"
     ]
    },
    {
     "data": {
      "text/html": [
       "<div>\n",
       "<style scoped>\n",
       "    .dataframe tbody tr th:only-of-type {\n",
       "        vertical-align: middle;\n",
       "    }\n",
       "\n",
       "    .dataframe tbody tr th {\n",
       "        vertical-align: top;\n",
       "    }\n",
       "\n",
       "    .dataframe thead th {\n",
       "        text-align: right;\n",
       "    }\n",
       "</style>\n",
       "<table border=\"1\" class=\"dataframe\">\n",
       "  <thead>\n",
       "    <tr style=\"text-align: right;\">\n",
       "      <th></th>\n",
       "      <th>year</th>\n",
       "      <th>name</th>\n",
       "      <th>games</th>\n",
       "      <th>points</th>\n",
       "      <th>total_rebounds</th>\n",
       "      <th>assists</th>\n",
       "      <th>steals</th>\n",
       "      <th>blocks</th>\n",
       "      <th>field_goal</th>\n",
       "      <th>3_point_field_goal</th>\n",
       "      <th>free_throw</th>\n",
       "      <th>win_shares</th>\n",
       "      <th>win_shares_per_48_mins</th>\n",
       "    </tr>\n",
       "  </thead>\n",
       "  <tbody>\n",
       "    <tr>\n",
       "      <th>0</th>\n",
       "      <td>1995</td>\n",
       "      <td>Kareem Abdul-Jabbar</td>\n",
       "      <td>1560.0</td>\n",
       "      <td>24.6</td>\n",
       "      <td>11.2</td>\n",
       "      <td>3.6</td>\n",
       "      <td>0.9</td>\n",
       "      <td>2.6</td>\n",
       "      <td>0.559</td>\n",
       "      <td>0.056</td>\n",
       "      <td>0.721</td>\n",
       "      <td>273.4</td>\n",
       "      <td>0.228</td>\n",
       "    </tr>\n",
       "    <tr>\n",
       "      <th>1</th>\n",
       "      <td>2018</td>\n",
       "      <td>Ray Allen</td>\n",
       "      <td>1300.0</td>\n",
       "      <td>18.9</td>\n",
       "      <td>4.1</td>\n",
       "      <td>3.4</td>\n",
       "      <td>1.1</td>\n",
       "      <td>0.2</td>\n",
       "      <td>0.452</td>\n",
       "      <td>0.400</td>\n",
       "      <td>0.894</td>\n",
       "      <td>145.1</td>\n",
       "      <td>0.150</td>\n",
       "    </tr>\n",
       "    <tr>\n",
       "      <th>2</th>\n",
       "      <td>1991</td>\n",
       "      <td>Tiny Archibald</td>\n",
       "      <td>876.0</td>\n",
       "      <td>18.8</td>\n",
       "      <td>2.3</td>\n",
       "      <td>7.4</td>\n",
       "      <td>1.1</td>\n",
       "      <td>0.1</td>\n",
       "      <td>0.467</td>\n",
       "      <td>0.224</td>\n",
       "      <td>0.810</td>\n",
       "      <td>83.4</td>\n",
       "      <td>0.128</td>\n",
       "    </tr>\n",
       "    <tr>\n",
       "      <th>3</th>\n",
       "      <td>1978</td>\n",
       "      <td>Paul Arizin</td>\n",
       "      <td>713.0</td>\n",
       "      <td>22.8</td>\n",
       "      <td>8.6</td>\n",
       "      <td>2.3</td>\n",
       "      <td>NaN</td>\n",
       "      <td>NaN</td>\n",
       "      <td>0.421</td>\n",
       "      <td>NaN</td>\n",
       "      <td>0.810</td>\n",
       "      <td>108.8</td>\n",
       "      <td>0.183</td>\n",
       "    </tr>\n",
       "    <tr>\n",
       "      <th>4</th>\n",
       "      <td>2006</td>\n",
       "      <td>Charles Barkley</td>\n",
       "      <td>1073.0</td>\n",
       "      <td>22.1</td>\n",
       "      <td>11.7</td>\n",
       "      <td>3.9</td>\n",
       "      <td>1.5</td>\n",
       "      <td>0.8</td>\n",
       "      <td>0.541</td>\n",
       "      <td>0.266</td>\n",
       "      <td>0.735</td>\n",
       "      <td>177.2</td>\n",
       "      <td>0.216</td>\n",
       "    </tr>\n",
       "  </tbody>\n",
       "</table>\n",
       "</div>"
      ],
      "text/plain": [
       "   year                 name   games  points  total_rebounds  assists  steals  \\\n",
       "0  1995  Kareem Abdul-Jabbar  1560.0    24.6            11.2      3.6     0.9   \n",
       "1  2018            Ray Allen  1300.0    18.9             4.1      3.4     1.1   \n",
       "2  1991       Tiny Archibald   876.0    18.8             2.3      7.4     1.1   \n",
       "3  1978          Paul Arizin   713.0    22.8             8.6      2.3     NaN   \n",
       "4  2006      Charles Barkley  1073.0    22.1            11.7      3.9     1.5   \n",
       "\n",
       "   blocks  field_goal  3_point_field_goal  free_throw  win_shares  \\\n",
       "0     2.6       0.559               0.056       0.721       273.4   \n",
       "1     0.2       0.452               0.400       0.894       145.1   \n",
       "2     0.1       0.467               0.224       0.810        83.4   \n",
       "3     NaN       0.421                 NaN       0.810       108.8   \n",
       "4     0.8       0.541               0.266       0.735       177.2   \n",
       "\n",
       "   win_shares_per_48_mins  \n",
       "0                   0.228  \n",
       "1                   0.150  \n",
       "2                   0.128  \n",
       "3                   0.183  \n",
       "4                   0.216  "
      ]
     },
     "execution_count": 5,
     "metadata": {},
     "output_type": "execute_result"
    }
   ],
   "source": [
    "start_time = time.time()\n",
    "data = pd.read_csv(\"data/nba-hall-of-fame.csv\")\n",
    "print(data.shape)\n",
    "data.head()"
   ]
  },
  {
   "cell_type": "code",
   "execution_count": 6,
   "metadata": {
    "scrolled": true
   },
   "outputs": [
    {
     "data": {
      "text/plain": [
       "year                        int64\n",
       "name                       object\n",
       "games                     float64\n",
       "points                    float64\n",
       "total_rebounds            float64\n",
       "assists                   float64\n",
       "steals                    float64\n",
       "blocks                    float64\n",
       "field_goal                float64\n",
       "3_point_field_goal        float64\n",
       "free_throw                float64\n",
       "win_shares                float64\n",
       "win_shares_per_48_mins    float64\n",
       "dtype: object"
      ]
     },
     "execution_count": 6,
     "metadata": {},
     "output_type": "execute_result"
    }
   ],
   "source": [
    "data.dtypes"
   ]
  },
  {
   "cell_type": "code",
   "execution_count": 7,
   "metadata": {},
   "outputs": [
    {
     "data": {
      "text/plain": [
       "year                      False\n",
       "name                      False\n",
       "games                      True\n",
       "points                     True\n",
       "total_rebounds             True\n",
       "assists                    True\n",
       "steals                     True\n",
       "blocks                     True\n",
       "field_goal                 True\n",
       "3_point_field_goal         True\n",
       "free_throw                 True\n",
       "win_shares                 True\n",
       "win_shares_per_48_mins     True\n",
       "dtype: bool"
      ]
     },
     "execution_count": 7,
     "metadata": {},
     "output_type": "execute_result"
    }
   ],
   "source": [
    "data.isnull().any()"
   ]
  },
  {
   "cell_type": "markdown",
   "metadata": {},
   "source": [
    "- As we can see, there is null value in all the columns except year and name"
   ]
  },
  {
   "cell_type": "markdown",
   "metadata": {},
   "source": [
    "### How many players have been awarded hall-of-fame each year?"
   ]
  },
  {
   "cell_type": "code",
   "execution_count": 11,
   "metadata": {},
   "outputs": [
    {
     "data": {
      "text/html": [
       "<div>\n",
       "<style scoped>\n",
       "    .dataframe tbody tr th:only-of-type {\n",
       "        vertical-align: middle;\n",
       "    }\n",
       "\n",
       "    .dataframe tbody tr th {\n",
       "        vertical-align: top;\n",
       "    }\n",
       "\n",
       "    .dataframe thead th {\n",
       "        text-align: right;\n",
       "    }\n",
       "</style>\n",
       "<table border=\"1\" class=\"dataframe\">\n",
       "  <thead>\n",
       "    <tr style=\"text-align: right;\">\n",
       "      <th></th>\n",
       "      <th>year</th>\n",
       "      <th>count</th>\n",
       "    </tr>\n",
       "  </thead>\n",
       "  <tbody>\n",
       "    <tr>\n",
       "      <th>0</th>\n",
       "      <td>1959</td>\n",
       "      <td>4</td>\n",
       "    </tr>\n",
       "    <tr>\n",
       "      <th>1</th>\n",
       "      <td>1960</td>\n",
       "      <td>5</td>\n",
       "    </tr>\n",
       "    <tr>\n",
       "      <th>2</th>\n",
       "      <td>1961</td>\n",
       "      <td>7</td>\n",
       "    </tr>\n",
       "    <tr>\n",
       "      <th>3</th>\n",
       "      <td>1962</td>\n",
       "      <td>4</td>\n",
       "    </tr>\n",
       "    <tr>\n",
       "      <th>4</th>\n",
       "      <td>1963</td>\n",
       "      <td>1</td>\n",
       "    </tr>\n",
       "  </tbody>\n",
       "</table>\n",
       "</div>"
      ],
      "text/plain": [
       "   year  count\n",
       "0  1959      4\n",
       "1  1960      5\n",
       "2  1961      7\n",
       "3  1962      4\n",
       "4  1963      1"
      ]
     },
     "execution_count": 11,
     "metadata": {},
     "output_type": "execute_result"
    }
   ],
   "source": [
    "awardedGroupByYear = data.groupby('year')['name'].count().reset_index(name='count')\n",
    "awardedGroupByYear.head()"
   ]
  },
  {
   "cell_type": "code",
   "execution_count": 9,
   "metadata": {},
   "outputs": [
    {
     "data": {
      "image/png": "[encoded data removed]",
      "text/plain": [
       "<Figure size 432x288 with 1 Axes>"
      ]
     },
     "metadata": {
      "needs_background": "light"
     },
     "output_type": "display_data"
    }
   ],
   "source": [
    "awardedGroupByYear.plot('year', 'count')\n",
    "plt.xticks(np.arange(1955, 2025, step=5), rotation=45)\n",
    "plt.xlabel(\"year (1959-2019)\")\n",
    "plt.ylabel(\"number of players\")\n",
    "plt.title(\"how many players been awarded hall-of-fame each year\")\n",
    "plt.show()"
   ]
  },
  {
   "cell_type": "code",
   "execution_count": 10,
   "metadata": {},
   "outputs": [
    {
     "name": "stdout",
     "output_type": "stream",
     "text": [
      "It took 0.21143412590026855 seconds to process\n"
     ]
    }
   ],
   "source": [
    "print(\"It took %s seconds to process\" % (time.time() - start_time))"
   ]
  }
 ],
 "metadata": {
  "kernelspec": {
   "display_name": "Python 3",
   "language": "python",
   "name": "python3"
  },
  "language_info": {
   "codemirror_mode": {
    "name": "ipython",
    "version": 3
   },
   "file_extension": ".py",
   "mimetype": "text/x-python",
   "name": "python",
   "nbconvert_exporter": "python",
   "pygments_lexer": "ipython3",
   "version": "3.7.5"
  }
 },
 "nbformat": 4,
 "nbformat_minor": 2
}
