{
 "cells": [
  {
   "cell_type": "code",
   "execution_count": 1,
   "metadata": {},
   "outputs": [],
   "source": [
    "import pandas as pd\n",
    "import numpy as np\n",
    "import matplotlib.pyplot as plt\n",
    "import time\n",
    "import seaborn as sns\n",
    "from warnings import simplefilter\n",
    "# ignore all future warnings\n",
    "simplefilter(action='ignore', category=FutureWarning)\n",
    "np.set_printoptions(suppress=True) # to remove e from float, scientific notation"
   ]
  },
  {
   "cell_type": "markdown",
   "metadata": {},
   "source": [
    "## 1. Data cleaning"
   ]
  },
  {
   "cell_type": "markdown",
   "metadata": {},
   "source": [
    "### Loading the raw dataset\n",
    "- We got the data for the hall of fame players from here: https://www.basketball-reference.com/awards/hof.html\n",
    "- There are some ***non ascii character*** in the raw dataset, so we should use **unicode_escape** to load the data"
   ]
  },
  {
   "cell_type": "code",
   "execution_count": 2,
   "metadata": {},
   "outputs": [
    {
     "name": "stdout",
     "output_type": "stream",
     "text": [
      "(216, 17)\n"
     ]
    },
    {
     "data": {
      "text/html": [
       "<div>\n",
       "<style scoped>\n",
       "    .dataframe tbody tr th:only-of-type {\n",
       "        vertical-align: middle;\n",
       "    }\n",
       "\n",
       "    .dataframe tbody tr th {\n",
       "        vertical-align: top;\n",
       "    }\n",
       "\n",
       "    .dataframe thead th {\n",
       "        text-align: right;\n",
       "    }\n",
       "</style>\n",
       "<table border=\"1\" class=\"dataframe\">\n",
       "  <thead>\n",
       "    <tr style=\"text-align: right;\">\n",
       "      <th></th>\n",
       "      <th>Rk</th>\n",
       "      <th>Player</th>\n",
       "      <th>From</th>\n",
       "      <th>To</th>\n",
       "      <th>Lg</th>\n",
       "      <th>G</th>\n",
       "      <th>MP</th>\n",
       "      <th>PTS</th>\n",
       "      <th>TRB</th>\n",
       "      <th>AST</th>\n",
       "      <th>STL</th>\n",
       "      <th>BLK</th>\n",
       "      <th>FG%</th>\n",
       "      <th>3P%</th>\n",
       "      <th>FT%</th>\n",
       "      <th>WS</th>\n",
       "      <th>WS/48</th>\n",
       "    </tr>\n",
       "  </thead>\n",
       "  <tbody>\n",
       "    <tr>\n",
       "      <th>0</th>\n",
       "      <td>NaN</td>\n",
       "      <td>NaN</td>\n",
       "      <td>NaN</td>\n",
       "      <td>NaN</td>\n",
       "      <td>NaN</td>\n",
       "      <td>NaN</td>\n",
       "      <td>NaN</td>\n",
       "      <td>NaN</td>\n",
       "      <td>NaN</td>\n",
       "      <td>NaN</td>\n",
       "      <td>NaN</td>\n",
       "      <td>NaN</td>\n",
       "      <td>NaN</td>\n",
       "      <td>NaN</td>\n",
       "      <td>NaN</td>\n",
       "      <td>NaN</td>\n",
       "      <td>NaN</td>\n",
       "    </tr>\n",
       "    <tr>\n",
       "      <th>1</th>\n",
       "      <td>1.0</td>\n",
       "      <td>Larry Foust</td>\n",
       "      <td>1951.0</td>\n",
       "      <td>1962.0</td>\n",
       "      <td>NBA</td>\n",
       "      <td>817.0</td>\n",
       "      <td>26.8</td>\n",
       "      <td>13.7</td>\n",
       "      <td>9.8</td>\n",
       "      <td>1.7</td>\n",
       "      <td>NaN</td>\n",
       "      <td>NaN</td>\n",
       "      <td>0.405</td>\n",
       "      <td>NaN</td>\n",
       "      <td>0.741</td>\n",
       "      <td>74.3</td>\n",
       "      <td>0.163</td>\n",
       "    </tr>\n",
       "    <tr>\n",
       "      <th>2</th>\n",
       "      <td>2.0</td>\n",
       "      <td>Red Kerr</td>\n",
       "      <td>1955.0</td>\n",
       "      <td>1966.0</td>\n",
       "      <td>NBA</td>\n",
       "      <td>905.0</td>\n",
       "      <td>30.7</td>\n",
       "      <td>13.8</td>\n",
       "      <td>11.2</td>\n",
       "      <td>2.2</td>\n",
       "      <td>NaN</td>\n",
       "      <td>NaN</td>\n",
       "      <td>0.418</td>\n",
       "      <td>NaN</td>\n",
       "      <td>0.723</td>\n",
       "      <td>61.8</td>\n",
       "      <td>0.107</td>\n",
       "    </tr>\n",
       "    <tr>\n",
       "      <th>3</th>\n",
       "      <td>3.0</td>\n",
       "      <td>Larry Costello</td>\n",
       "      <td>1955.0</td>\n",
       "      <td>1968.0</td>\n",
       "      <td>NBA</td>\n",
       "      <td>706.0</td>\n",
       "      <td>30.0</td>\n",
       "      <td>12.2</td>\n",
       "      <td>3.8</td>\n",
       "      <td>4.6</td>\n",
       "      <td>NaN</td>\n",
       "      <td>NaN</td>\n",
       "      <td>0.438</td>\n",
       "      <td>NaN</td>\n",
       "      <td>0.841</td>\n",
       "      <td>62.7</td>\n",
       "      <td>0.142</td>\n",
       "    </tr>\n",
       "    <tr>\n",
       "      <th>4</th>\n",
       "      <td>4.0</td>\n",
       "      <td>Kenny Sears</td>\n",
       "      <td>1956.0</td>\n",
       "      <td>1964.0</td>\n",
       "      <td>NBA</td>\n",
       "      <td>529.0</td>\n",
       "      <td>28.2</td>\n",
       "      <td>13.9</td>\n",
       "      <td>7.8</td>\n",
       "      <td>1.6</td>\n",
       "      <td>NaN</td>\n",
       "      <td>NaN</td>\n",
       "      <td>0.455</td>\n",
       "      <td>NaN</td>\n",
       "      <td>0.826</td>\n",
       "      <td>55.8</td>\n",
       "      <td>0.179</td>\n",
       "    </tr>\n",
       "  </tbody>\n",
       "</table>\n",
       "</div>"
      ],
      "text/plain": [
       "    Rk          Player    From      To   Lg      G    MP   PTS   TRB  AST  \\\n",
       "0  NaN             NaN     NaN     NaN  NaN    NaN   NaN   NaN   NaN  NaN   \n",
       "1  1.0     Larry Foust  1951.0  1962.0  NBA  817.0  26.8  13.7   9.8  1.7   \n",
       "2  2.0        Red Kerr  1955.0  1966.0  NBA  905.0  30.7  13.8  11.2  2.2   \n",
       "3  3.0  Larry Costello  1955.0  1968.0  NBA  706.0  30.0  12.2   3.8  4.6   \n",
       "4  4.0     Kenny Sears  1956.0  1964.0  NBA  529.0  28.2  13.9   7.8  1.6   \n",
       "\n",
       "   STL  BLK    FG%  3P%    FT%    WS  WS/48  \n",
       "0  NaN  NaN    NaN  NaN    NaN   NaN    NaN  \n",
       "1  NaN  NaN  0.405  NaN  0.741  74.3  0.163  \n",
       "2  NaN  NaN  0.418  NaN  0.723  61.8  0.107  \n",
       "3  NaN  NaN  0.438  NaN  0.841  62.7  0.142  \n",
       "4  NaN  NaN  0.455  NaN  0.826  55.8  0.179  "
      ]
     },
     "execution_count": 2,
     "metadata": {},
     "output_type": "execute_result"
    }
   ],
   "source": [
    "data_candidates = pd.read_csv(\"data/nba-hall-of-fame-candidate.csv\", encoding = 'unicode_escape')\n",
    "print(data_candidates.shape)\n",
    "data_candidates.head()"
   ]
  },
  {
   "cell_type": "markdown",
   "metadata": {},
   "source": [
    "### Removing the row/column"
   ]
  },
  {
   "cell_type": "code",
   "execution_count": 3,
   "metadata": {},
   "outputs": [
    {
     "data": {
      "text/html": [
       "<div>\n",
       "<style scoped>\n",
       "    .dataframe tbody tr th:only-of-type {\n",
       "        vertical-align: middle;\n",
       "    }\n",
       "\n",
       "    .dataframe tbody tr th {\n",
       "        vertical-align: top;\n",
       "    }\n",
       "\n",
       "    .dataframe thead th {\n",
       "        text-align: right;\n",
       "    }\n",
       "</style>\n",
       "<table border=\"1\" class=\"dataframe\">\n",
       "  <thead>\n",
       "    <tr style=\"text-align: right;\">\n",
       "      <th></th>\n",
       "      <th>Player</th>\n",
       "      <th>From</th>\n",
       "      <th>To</th>\n",
       "      <th>Lg</th>\n",
       "      <th>G</th>\n",
       "      <th>MP</th>\n",
       "      <th>PTS</th>\n",
       "      <th>TRB</th>\n",
       "      <th>AST</th>\n",
       "      <th>STL</th>\n",
       "      <th>BLK</th>\n",
       "      <th>FG%</th>\n",
       "      <th>3P%</th>\n",
       "      <th>FT%</th>\n",
       "      <th>WS</th>\n",
       "      <th>WS/48</th>\n",
       "    </tr>\n",
       "  </thead>\n",
       "  <tbody>\n",
       "    <tr>\n",
       "      <th>1</th>\n",
       "      <td>Larry Foust</td>\n",
       "      <td>1951.0</td>\n",
       "      <td>1962.0</td>\n",
       "      <td>NBA</td>\n",
       "      <td>817.0</td>\n",
       "      <td>26.8</td>\n",
       "      <td>13.7</td>\n",
       "      <td>9.8</td>\n",
       "      <td>1.7</td>\n",
       "      <td>NaN</td>\n",
       "      <td>NaN</td>\n",
       "      <td>0.405</td>\n",
       "      <td>NaN</td>\n",
       "      <td>0.741</td>\n",
       "      <td>74.3</td>\n",
       "      <td>0.163</td>\n",
       "    </tr>\n",
       "    <tr>\n",
       "      <th>2</th>\n",
       "      <td>Red Kerr</td>\n",
       "      <td>1955.0</td>\n",
       "      <td>1966.0</td>\n",
       "      <td>NBA</td>\n",
       "      <td>905.0</td>\n",
       "      <td>30.7</td>\n",
       "      <td>13.8</td>\n",
       "      <td>11.2</td>\n",
       "      <td>2.2</td>\n",
       "      <td>NaN</td>\n",
       "      <td>NaN</td>\n",
       "      <td>0.418</td>\n",
       "      <td>NaN</td>\n",
       "      <td>0.723</td>\n",
       "      <td>61.8</td>\n",
       "      <td>0.107</td>\n",
       "    </tr>\n",
       "    <tr>\n",
       "      <th>3</th>\n",
       "      <td>Larry Costello</td>\n",
       "      <td>1955.0</td>\n",
       "      <td>1968.0</td>\n",
       "      <td>NBA</td>\n",
       "      <td>706.0</td>\n",
       "      <td>30.0</td>\n",
       "      <td>12.2</td>\n",
       "      <td>3.8</td>\n",
       "      <td>4.6</td>\n",
       "      <td>NaN</td>\n",
       "      <td>NaN</td>\n",
       "      <td>0.438</td>\n",
       "      <td>NaN</td>\n",
       "      <td>0.841</td>\n",
       "      <td>62.7</td>\n",
       "      <td>0.142</td>\n",
       "    </tr>\n",
       "    <tr>\n",
       "      <th>4</th>\n",
       "      <td>Kenny Sears</td>\n",
       "      <td>1956.0</td>\n",
       "      <td>1964.0</td>\n",
       "      <td>NBA</td>\n",
       "      <td>529.0</td>\n",
       "      <td>28.2</td>\n",
       "      <td>13.9</td>\n",
       "      <td>7.8</td>\n",
       "      <td>1.6</td>\n",
       "      <td>NaN</td>\n",
       "      <td>NaN</td>\n",
       "      <td>0.455</td>\n",
       "      <td>NaN</td>\n",
       "      <td>0.826</td>\n",
       "      <td>55.8</td>\n",
       "      <td>0.179</td>\n",
       "    </tr>\n",
       "    <tr>\n",
       "      <th>5</th>\n",
       "      <td>Rudy LaRusso</td>\n",
       "      <td>1960.0</td>\n",
       "      <td>1969.0</td>\n",
       "      <td>NBA</td>\n",
       "      <td>736.0</td>\n",
       "      <td>33.3</td>\n",
       "      <td>15.6</td>\n",
       "      <td>9.4</td>\n",
       "      <td>2.1</td>\n",
       "      <td>NaN</td>\n",
       "      <td>NaN</td>\n",
       "      <td>0.431</td>\n",
       "      <td>NaN</td>\n",
       "      <td>0.767</td>\n",
       "      <td>61.4</td>\n",
       "      <td>0.120</td>\n",
       "    </tr>\n",
       "  </tbody>\n",
       "</table>\n",
       "</div>"
      ],
      "text/plain": [
       "           Player    From      To   Lg      G    MP   PTS   TRB  AST  STL  \\\n",
       "1     Larry Foust  1951.0  1962.0  NBA  817.0  26.8  13.7   9.8  1.7  NaN   \n",
       "2        Red Kerr  1955.0  1966.0  NBA  905.0  30.7  13.8  11.2  2.2  NaN   \n",
       "3  Larry Costello  1955.0  1968.0  NBA  706.0  30.0  12.2   3.8  4.6  NaN   \n",
       "4     Kenny Sears  1956.0  1964.0  NBA  529.0  28.2  13.9   7.8  1.6  NaN   \n",
       "5    Rudy LaRusso  1960.0  1969.0  NBA  736.0  33.3  15.6   9.4  2.1  NaN   \n",
       "\n",
       "   BLK    FG%  3P%    FT%    WS  WS/48  \n",
       "1  NaN  0.405  NaN  0.741  74.3  0.163  \n",
       "2  NaN  0.418  NaN  0.723  61.8  0.107  \n",
       "3  NaN  0.438  NaN  0.841  62.7  0.142  \n",
       "4  NaN  0.455  NaN  0.826  55.8  0.179  \n",
       "5  NaN  0.431  NaN  0.767  61.4  0.120  "
      ]
     },
     "execution_count": 3,
     "metadata": {},
     "output_type": "execute_result"
    }
   ],
   "source": [
    "data_candidates = data_candidates.iloc[1:, 1:]\n",
    "data_candidates.head()\n",
    "# data = data.iloc[:, :-5]\n",
    "# data = data.iloc[:, 1:]"
   ]
  },
  {
   "cell_type": "markdown",
   "metadata": {},
   "source": [
    "### Renaming the columns"
   ]
  },
  {
   "cell_type": "code",
   "execution_count": 4,
   "metadata": {},
   "outputs": [
    {
     "data": {
      "text/plain": [
       "Index(['Player', 'From', 'To', 'Lg', 'G', 'MP', 'PTS', 'TRB', 'AST', 'STL',\n",
       "       'BLK', 'FG%', '3P%', 'FT%', 'WS', 'WS/48'],\n",
       "      dtype='object')"
      ]
     },
     "execution_count": 4,
     "metadata": {},
     "output_type": "execute_result"
    }
   ],
   "source": [
    "data_candidates.columns"
   ]
  },
  {
   "cell_type": "code",
   "execution_count": 5,
   "metadata": {},
   "outputs": [
    {
     "data": {
      "text/plain": [
       "Index(['name', 'From', 'year', 'Lg', 'games', 'MP', 'points', 'total_rebounds',\n",
       "       'assists', 'steals', 'blocks', 'field_goal', '3_point_field_goal',\n",
       "       'free_throw', 'win_shares', 'win_shares_per_48_mins'],\n",
       "      dtype='object')"
      ]
     },
     "execution_count": 5,
     "metadata": {},
     "output_type": "execute_result"
    }
   ],
   "source": [
    "data_candidates.rename(columns={'Player':'name', 'To':'year', 'G':'games', 'PTS':'points', 'TRB':'total_rebounds',\n",
    "                                'AST':'assists', 'STL':'steals', 'BLK':'blocks', 'FG%':'field_goal',\n",
    "                                '3P%':'3_point_field_goal', 'FT%':'free_throw', 'WS':'win_shares',\n",
    "                                'WS/48':'win_shares_per_48_mins'}, inplace=True)\n",
    "data_candidates.columns"
   ]
  },
  {
   "cell_type": "markdown",
   "metadata": {},
   "source": [
    "### Reordering the column"
   ]
  },
  {
   "cell_type": "code",
   "execution_count": 6,
   "metadata": {},
   "outputs": [
    {
     "name": "stdout",
     "output_type": "stream",
     "text": [
      "(215, 13)\n"
     ]
    },
    {
     "data": {
      "text/html": [
       "<div>\n",
       "<style scoped>\n",
       "    .dataframe tbody tr th:only-of-type {\n",
       "        vertical-align: middle;\n",
       "    }\n",
       "\n",
       "    .dataframe tbody tr th {\n",
       "        vertical-align: top;\n",
       "    }\n",
       "\n",
       "    .dataframe thead th {\n",
       "        text-align: right;\n",
       "    }\n",
       "</style>\n",
       "<table border=\"1\" class=\"dataframe\">\n",
       "  <thead>\n",
       "    <tr style=\"text-align: right;\">\n",
       "      <th></th>\n",
       "      <th>year</th>\n",
       "      <th>name</th>\n",
       "      <th>games</th>\n",
       "      <th>points</th>\n",
       "      <th>total_rebounds</th>\n",
       "      <th>assists</th>\n",
       "      <th>steals</th>\n",
       "      <th>blocks</th>\n",
       "      <th>field_goal</th>\n",
       "      <th>3_point_field_goal</th>\n",
       "      <th>free_throw</th>\n",
       "      <th>win_shares</th>\n",
       "      <th>win_shares_per_48_mins</th>\n",
       "    </tr>\n",
       "  </thead>\n",
       "  <tbody>\n",
       "    <tr>\n",
       "      <th>1</th>\n",
       "      <td>1962</td>\n",
       "      <td>Larry Foust</td>\n",
       "      <td>817.0</td>\n",
       "      <td>13.7</td>\n",
       "      <td>9.8</td>\n",
       "      <td>1.7</td>\n",
       "      <td>NaN</td>\n",
       "      <td>NaN</td>\n",
       "      <td>0.405</td>\n",
       "      <td>NaN</td>\n",
       "      <td>0.741</td>\n",
       "      <td>74.3</td>\n",
       "      <td>0.163</td>\n",
       "    </tr>\n",
       "    <tr>\n",
       "      <th>2</th>\n",
       "      <td>1966</td>\n",
       "      <td>Red Kerr</td>\n",
       "      <td>905.0</td>\n",
       "      <td>13.8</td>\n",
       "      <td>11.2</td>\n",
       "      <td>2.2</td>\n",
       "      <td>NaN</td>\n",
       "      <td>NaN</td>\n",
       "      <td>0.418</td>\n",
       "      <td>NaN</td>\n",
       "      <td>0.723</td>\n",
       "      <td>61.8</td>\n",
       "      <td>0.107</td>\n",
       "    </tr>\n",
       "    <tr>\n",
       "      <th>3</th>\n",
       "      <td>1968</td>\n",
       "      <td>Larry Costello</td>\n",
       "      <td>706.0</td>\n",
       "      <td>12.2</td>\n",
       "      <td>3.8</td>\n",
       "      <td>4.6</td>\n",
       "      <td>NaN</td>\n",
       "      <td>NaN</td>\n",
       "      <td>0.438</td>\n",
       "      <td>NaN</td>\n",
       "      <td>0.841</td>\n",
       "      <td>62.7</td>\n",
       "      <td>0.142</td>\n",
       "    </tr>\n",
       "    <tr>\n",
       "      <th>4</th>\n",
       "      <td>1964</td>\n",
       "      <td>Kenny Sears</td>\n",
       "      <td>529.0</td>\n",
       "      <td>13.9</td>\n",
       "      <td>7.8</td>\n",
       "      <td>1.6</td>\n",
       "      <td>NaN</td>\n",
       "      <td>NaN</td>\n",
       "      <td>0.455</td>\n",
       "      <td>NaN</td>\n",
       "      <td>0.826</td>\n",
       "      <td>55.8</td>\n",
       "      <td>0.179</td>\n",
       "    </tr>\n",
       "    <tr>\n",
       "      <th>5</th>\n",
       "      <td>1969</td>\n",
       "      <td>Rudy LaRusso</td>\n",
       "      <td>736.0</td>\n",
       "      <td>15.6</td>\n",
       "      <td>9.4</td>\n",
       "      <td>2.1</td>\n",
       "      <td>NaN</td>\n",
       "      <td>NaN</td>\n",
       "      <td>0.431</td>\n",
       "      <td>NaN</td>\n",
       "      <td>0.767</td>\n",
       "      <td>61.4</td>\n",
       "      <td>0.120</td>\n",
       "    </tr>\n",
       "  </tbody>\n",
       "</table>\n",
       "</div>"
      ],
      "text/plain": [
       "   year            name  games  points  total_rebounds  assists  steals  \\\n",
       "1  1962     Larry Foust  817.0    13.7             9.8      1.7     NaN   \n",
       "2  1966        Red Kerr  905.0    13.8            11.2      2.2     NaN   \n",
       "3  1968  Larry Costello  706.0    12.2             3.8      4.6     NaN   \n",
       "4  1964     Kenny Sears  529.0    13.9             7.8      1.6     NaN   \n",
       "5  1969    Rudy LaRusso  736.0    15.6             9.4      2.1     NaN   \n",
       "\n",
       "   blocks  field_goal  3_point_field_goal  free_throw  win_shares  \\\n",
       "1     NaN       0.405                 NaN       0.741        74.3   \n",
       "2     NaN       0.418                 NaN       0.723        61.8   \n",
       "3     NaN       0.438                 NaN       0.841        62.7   \n",
       "4     NaN       0.455                 NaN       0.826        55.8   \n",
       "5     NaN       0.431                 NaN       0.767        61.4   \n",
       "\n",
       "   win_shares_per_48_mins  \n",
       "1                   0.163  \n",
       "2                   0.107  \n",
       "3                   0.142  \n",
       "4                   0.179  \n",
       "5                   0.120  "
      ]
     },
     "execution_count": 6,
     "metadata": {},
     "output_type": "execute_result"
    }
   ],
   "source": [
    "cols = ['year','name','games','points','total_rebounds','assists','steals','blocks','field_goal','3_point_field_goal',\n",
    "        'free_throw','win_shares','win_shares_per_48_mins']\n",
    "data_candidates = data_candidates[cols]\n",
    "data_candidates['year'] = data_candidates['year'].astype(int)\n",
    "print(data_candidates.shape)\n",
    "data_candidates.head()"
   ]
  },
  {
   "cell_type": "markdown",
   "metadata": {},
   "source": [
    "### Replacing null values with the mean of that column"
   ]
  },
  {
   "cell_type": "code",
   "execution_count": 7,
   "metadata": {},
   "outputs": [
    {
     "data": {
      "text/plain": [
       "year                      False\n",
       "name                      False\n",
       "games                     False\n",
       "points                    False\n",
       "total_rebounds            False\n",
       "assists                   False\n",
       "steals                     True\n",
       "blocks                     True\n",
       "field_goal                False\n",
       "3_point_field_goal         True\n",
       "free_throw                False\n",
       "win_shares                False\n",
       "win_shares_per_48_mins     True\n",
       "dtype: bool"
      ]
     },
     "execution_count": 7,
     "metadata": {},
     "output_type": "execute_result"
    }
   ],
   "source": [
    "data_candidates.isnull().any()"
   ]
  },
  {
   "cell_type": "code",
   "execution_count": 8,
   "metadata": {},
   "outputs": [
    {
     "data": {
      "text/plain": [
       "year                      1997.865116\n",
       "games                      929.372093\n",
       "points                      13.762791\n",
       "total_rebounds               5.640930\n",
       "assists                      2.990233\n",
       "steals                       0.939614\n",
       "blocks                       0.544928\n",
       "field_goal                   0.470888\n",
       "3_point_field_goal           0.263418\n",
       "free_throw                   0.770893\n",
       "win_shares                  70.606512\n",
       "win_shares_per_48_mins       0.122262\n",
       "dtype: float64"
      ]
     },
     "execution_count": 8,
     "metadata": {},
     "output_type": "execute_result"
    }
   ],
   "source": [
    "data_candidates.mean()"
   ]
  },
  {
   "cell_type": "code",
   "execution_count": 9,
   "metadata": {},
   "outputs": [],
   "source": [
    "# Filling the null values with the mean of that column\n",
    "data_candidates = data_candidates.fillna(data_candidates.mean())"
   ]
  },
  {
   "cell_type": "markdown",
   "metadata": {},
   "source": [
    "### Getting the latest hall-of-fame candidates and remove them from the overall candidate list"
   ]
  },
  {
   "cell_type": "code",
   "execution_count": 10,
   "metadata": {},
   "outputs": [
    {
     "data": {
      "text/html": [
       "<div>\n",
       "<style scoped>\n",
       "    .dataframe tbody tr th:only-of-type {\n",
       "        vertical-align: middle;\n",
       "    }\n",
       "\n",
       "    .dataframe tbody tr th {\n",
       "        vertical-align: top;\n",
       "    }\n",
       "\n",
       "    .dataframe thead th {\n",
       "        text-align: right;\n",
       "    }\n",
       "</style>\n",
       "<table border=\"1\" class=\"dataframe\">\n",
       "  <thead>\n",
       "    <tr style=\"text-align: right;\">\n",
       "      <th></th>\n",
       "      <th>year</th>\n",
       "      <th>name</th>\n",
       "      <th>games</th>\n",
       "      <th>points</th>\n",
       "      <th>total_rebounds</th>\n",
       "      <th>assists</th>\n",
       "      <th>steals</th>\n",
       "      <th>blocks</th>\n",
       "      <th>field_goal</th>\n",
       "      <th>3_point_field_goal</th>\n",
       "      <th>free_throw</th>\n",
       "      <th>win_shares</th>\n",
       "      <th>win_shares_per_48_mins</th>\n",
       "    </tr>\n",
       "  </thead>\n",
       "  <tbody>\n",
       "    <tr>\n",
       "      <th>169</th>\n",
       "      <td>2016</td>\n",
       "      <td>Kevin Garnett</td>\n",
       "      <td>1462.0</td>\n",
       "      <td>17.8</td>\n",
       "      <td>10.0</td>\n",
       "      <td>3.7</td>\n",
       "      <td>1.3</td>\n",
       "      <td>1.4</td>\n",
       "      <td>0.497</td>\n",
       "      <td>0.275</td>\n",
       "      <td>0.789</td>\n",
       "      <td>191.4</td>\n",
       "      <td>0.182000</td>\n",
       "    </tr>\n",
       "    <tr>\n",
       "      <th>178</th>\n",
       "      <td>2016</td>\n",
       "      <td>Kobe Bryant</td>\n",
       "      <td>1346.0</td>\n",
       "      <td>25.0</td>\n",
       "      <td>5.2</td>\n",
       "      <td>4.7</td>\n",
       "      <td>1.4</td>\n",
       "      <td>0.5</td>\n",
       "      <td>0.447</td>\n",
       "      <td>0.329</td>\n",
       "      <td>0.837</td>\n",
       "      <td>172.7</td>\n",
       "      <td>0.170000</td>\n",
       "    </tr>\n",
       "    <tr>\n",
       "      <th>181</th>\n",
       "      <td>2016</td>\n",
       "      <td>Tim Duncan</td>\n",
       "      <td>1392.0</td>\n",
       "      <td>19.0</td>\n",
       "      <td>10.8</td>\n",
       "      <td>3.0</td>\n",
       "      <td>0.7</td>\n",
       "      <td>2.2</td>\n",
       "      <td>0.506</td>\n",
       "      <td>0.179</td>\n",
       "      <td>0.696</td>\n",
       "      <td>206.4</td>\n",
       "      <td>0.209000</td>\n",
       "    </tr>\n",
       "    <tr>\n",
       "      <th>192</th>\n",
       "      <td>2016</td>\n",
       "      <td>Andre Miller</td>\n",
       "      <td>1304.0</td>\n",
       "      <td>12.5</td>\n",
       "      <td>3.7</td>\n",
       "      <td>6.5</td>\n",
       "      <td>1.2</td>\n",
       "      <td>0.2</td>\n",
       "      <td>0.461</td>\n",
       "      <td>0.217</td>\n",
       "      <td>0.807</td>\n",
       "      <td>100.8</td>\n",
       "      <td>0.120000</td>\n",
       "    </tr>\n",
       "    <tr>\n",
       "      <th>198</th>\n",
       "      <td>2016</td>\n",
       "      <td>Elton Brand</td>\n",
       "      <td>1058.0</td>\n",
       "      <td>15.9</td>\n",
       "      <td>8.5</td>\n",
       "      <td>2.1</td>\n",
       "      <td>0.9</td>\n",
       "      <td>1.7</td>\n",
       "      <td>0.500</td>\n",
       "      <td>0.095</td>\n",
       "      <td>0.736</td>\n",
       "      <td>109.6</td>\n",
       "      <td>0.151000</td>\n",
       "    </tr>\n",
       "    <tr>\n",
       "      <th>208</th>\n",
       "      <td>2016</td>\n",
       "      <td>Amar'e Stoudemire</td>\n",
       "      <td>846.0</td>\n",
       "      <td>18.9</td>\n",
       "      <td>7.8</td>\n",
       "      <td>1.2</td>\n",
       "      <td>0.8</td>\n",
       "      <td>1.2</td>\n",
       "      <td>0.537</td>\n",
       "      <td>0.236</td>\n",
       "      <td>0.761</td>\n",
       "      <td>92.5</td>\n",
       "      <td>0.169000</td>\n",
       "    </tr>\n",
       "    <tr>\n",
       "      <th>209</th>\n",
       "      <td>2016</td>\n",
       "      <td>Tayshaun Prince</td>\n",
       "      <td>1017.0</td>\n",
       "      <td>11.1</td>\n",
       "      <td>4.3</td>\n",
       "      <td>2.4</td>\n",
       "      <td>0.6</td>\n",
       "      <td>0.5</td>\n",
       "      <td>0.455</td>\n",
       "      <td>0.367</td>\n",
       "      <td>0.756</td>\n",
       "      <td>63.1</td>\n",
       "      <td>0.096000</td>\n",
       "    </tr>\n",
       "    <tr>\n",
       "      <th>211</th>\n",
       "      <td>2016</td>\n",
       "      <td>Caron Butler</td>\n",
       "      <td>881.0</td>\n",
       "      <td>14.1</td>\n",
       "      <td>5.0</td>\n",
       "      <td>2.3</td>\n",
       "      <td>1.3</td>\n",
       "      <td>0.2</td>\n",
       "      <td>0.434</td>\n",
       "      <td>0.348</td>\n",
       "      <td>0.847</td>\n",
       "      <td>50.9</td>\n",
       "      <td>0.086000</td>\n",
       "    </tr>\n",
       "    <tr>\n",
       "      <th>213</th>\n",
       "      <td>2016</td>\n",
       "      <td>Kirk Hinrich</td>\n",
       "      <td>879.0</td>\n",
       "      <td>10.9</td>\n",
       "      <td>2.9</td>\n",
       "      <td>4.8</td>\n",
       "      <td>1.1</td>\n",
       "      <td>0.3</td>\n",
       "      <td>0.411</td>\n",
       "      <td>0.375</td>\n",
       "      <td>0.800</td>\n",
       "      <td>52.5</td>\n",
       "      <td>0.093000</td>\n",
       "    </tr>\n",
       "    <tr>\n",
       "      <th>214</th>\n",
       "      <td>2016</td>\n",
       "      <td>Chris Bosh</td>\n",
       "      <td>893.0</td>\n",
       "      <td>19.2</td>\n",
       "      <td>8.5</td>\n",
       "      <td>2.0</td>\n",
       "      <td>0.8</td>\n",
       "      <td>1.0</td>\n",
       "      <td>0.494</td>\n",
       "      <td>0.335</td>\n",
       "      <td>0.799</td>\n",
       "      <td>106.0</td>\n",
       "      <td>0.159000</td>\n",
       "    </tr>\n",
       "    <tr>\n",
       "      <th>215</th>\n",
       "      <td>2016</td>\n",
       "      <td>Kevin Martin</td>\n",
       "      <td>714.0</td>\n",
       "      <td>17.4</td>\n",
       "      <td>3.2</td>\n",
       "      <td>1.9</td>\n",
       "      <td>0.9</td>\n",
       "      <td>0.1</td>\n",
       "      <td>0.437</td>\n",
       "      <td>0.384</td>\n",
       "      <td>0.870</td>\n",
       "      <td>61.3</td>\n",
       "      <td>0.122262</td>\n",
       "    </tr>\n",
       "  </tbody>\n",
       "</table>\n",
       "</div>"
      ],
      "text/plain": [
       "     year               name   games  points  total_rebounds  assists  steals  \\\n",
       "169  2016      Kevin Garnett  1462.0    17.8            10.0      3.7     1.3   \n",
       "178  2016        Kobe Bryant  1346.0    25.0             5.2      4.7     1.4   \n",
       "181  2016         Tim Duncan  1392.0    19.0            10.8      3.0     0.7   \n",
       "192  2016       Andre Miller  1304.0    12.5             3.7      6.5     1.2   \n",
       "198  2016        Elton Brand  1058.0    15.9             8.5      2.1     0.9   \n",
       "208  2016  Amar'e Stoudemire   846.0    18.9             7.8      1.2     0.8   \n",
       "209  2016    Tayshaun Prince  1017.0    11.1             4.3      2.4     0.6   \n",
       "211  2016       Caron Butler   881.0    14.1             5.0      2.3     1.3   \n",
       "213  2016       Kirk Hinrich   879.0    10.9             2.9      4.8     1.1   \n",
       "214  2016         Chris Bosh   893.0    19.2             8.5      2.0     0.8   \n",
       "215  2016       Kevin Martin   714.0    17.4             3.2      1.9     0.9   \n",
       "\n",
       "     blocks  field_goal  3_point_field_goal  free_throw  win_shares  \\\n",
       "169     1.4       0.497               0.275       0.789       191.4   \n",
       "178     0.5       0.447               0.329       0.837       172.7   \n",
       "181     2.2       0.506               0.179       0.696       206.4   \n",
       "192     0.2       0.461               0.217       0.807       100.8   \n",
       "198     1.7       0.500               0.095       0.736       109.6   \n",
       "208     1.2       0.537               0.236       0.761        92.5   \n",
       "209     0.5       0.455               0.367       0.756        63.1   \n",
       "211     0.2       0.434               0.348       0.847        50.9   \n",
       "213     0.3       0.411               0.375       0.800        52.5   \n",
       "214     1.0       0.494               0.335       0.799       106.0   \n",
       "215     0.1       0.437               0.384       0.870        61.3   \n",
       "\n",
       "     win_shares_per_48_mins  \n",
       "169                0.182000  \n",
       "178                0.170000  \n",
       "181                0.209000  \n",
       "192                0.120000  \n",
       "198                0.151000  \n",
       "208                0.169000  \n",
       "209                0.096000  \n",
       "211                0.086000  \n",
       "213                0.093000  \n",
       "214                0.159000  \n",
       "215                0.122262  "
      ]
     },
     "execution_count": 10,
     "metadata": {},
     "output_type": "execute_result"
    }
   ],
   "source": [
    "cur_candidates = data_candidates[data_candidates['year']>2015]\n",
    "cur_candidates"
   ]
  },
  {
   "cell_type": "code",
   "execution_count": 11,
   "metadata": {},
   "outputs": [
    {
     "data": {
      "text/plain": [
       "(204, 13)"
      ]
     },
     "execution_count": 11,
     "metadata": {},
     "output_type": "execute_result"
    }
   ],
   "source": [
    "data_candidates = data_candidates[~data_candidates.index.isin(cur_candidates.index)]\n",
    "data_candidates.shape"
   ]
  },
  {
   "cell_type": "markdown",
   "metadata": {},
   "source": [
    "### Saving the updated dataframe as csv"
   ]
  },
  {
   "cell_type": "code",
   "execution_count": 12,
   "metadata": {},
   "outputs": [],
   "source": [
    "# data.to_csv(\"nba-hall-of-fame-temp.csv\", index = None, header=True)"
   ]
  },
  {
   "cell_type": "markdown",
   "metadata": {},
   "source": [
    "- As a result of using unicode_escape, we have some unicode character in the name column. So we had to clean that up manually."
   ]
  },
  {
   "cell_type": "markdown",
   "metadata": {},
   "source": [
    "## 2. Working with the filtered dataset"
   ]
  },
  {
   "cell_type": "code",
   "execution_count": 13,
   "metadata": {
    "scrolled": true
   },
   "outputs": [
    {
     "name": "stdout",
     "output_type": "stream",
     "text": [
      "(200, 13)\n"
     ]
    },
    {
     "data": {
      "text/html": [
       "<div>\n",
       "<style scoped>\n",
       "    .dataframe tbody tr th:only-of-type {\n",
       "        vertical-align: middle;\n",
       "    }\n",
       "\n",
       "    .dataframe tbody tr th {\n",
       "        vertical-align: top;\n",
       "    }\n",
       "\n",
       "    .dataframe thead th {\n",
       "        text-align: right;\n",
       "    }\n",
       "</style>\n",
       "<table border=\"1\" class=\"dataframe\">\n",
       "  <thead>\n",
       "    <tr style=\"text-align: right;\">\n",
       "      <th></th>\n",
       "      <th>year</th>\n",
       "      <th>name</th>\n",
       "      <th>games</th>\n",
       "      <th>points</th>\n",
       "      <th>total_rebounds</th>\n",
       "      <th>assists</th>\n",
       "      <th>steals</th>\n",
       "      <th>blocks</th>\n",
       "      <th>field_goal</th>\n",
       "      <th>3_point_field_goal</th>\n",
       "      <th>free_throw</th>\n",
       "      <th>win_shares</th>\n",
       "      <th>win_shares_per_48_mins</th>\n",
       "    </tr>\n",
       "  </thead>\n",
       "  <tbody>\n",
       "    <tr>\n",
       "      <th>0</th>\n",
       "      <td>1995</td>\n",
       "      <td>Kareem Abdul-Jabbar</td>\n",
       "      <td>1560.0</td>\n",
       "      <td>24.6</td>\n",
       "      <td>11.2</td>\n",
       "      <td>3.6</td>\n",
       "      <td>0.9</td>\n",
       "      <td>2.6</td>\n",
       "      <td>0.559</td>\n",
       "      <td>0.056</td>\n",
       "      <td>0.721</td>\n",
       "      <td>273.4</td>\n",
       "      <td>0.228</td>\n",
       "    </tr>\n",
       "    <tr>\n",
       "      <th>1</th>\n",
       "      <td>2018</td>\n",
       "      <td>Ray Allen</td>\n",
       "      <td>1300.0</td>\n",
       "      <td>18.9</td>\n",
       "      <td>4.1</td>\n",
       "      <td>3.4</td>\n",
       "      <td>1.1</td>\n",
       "      <td>0.2</td>\n",
       "      <td>0.452</td>\n",
       "      <td>0.400</td>\n",
       "      <td>0.894</td>\n",
       "      <td>145.1</td>\n",
       "      <td>0.150</td>\n",
       "    </tr>\n",
       "    <tr>\n",
       "      <th>2</th>\n",
       "      <td>1991</td>\n",
       "      <td>Tiny Archibald</td>\n",
       "      <td>876.0</td>\n",
       "      <td>18.8</td>\n",
       "      <td>2.3</td>\n",
       "      <td>7.4</td>\n",
       "      <td>1.1</td>\n",
       "      <td>0.1</td>\n",
       "      <td>0.467</td>\n",
       "      <td>0.224</td>\n",
       "      <td>0.810</td>\n",
       "      <td>83.4</td>\n",
       "      <td>0.128</td>\n",
       "    </tr>\n",
       "    <tr>\n",
       "      <th>3</th>\n",
       "      <td>1978</td>\n",
       "      <td>Paul Arizin</td>\n",
       "      <td>713.0</td>\n",
       "      <td>22.8</td>\n",
       "      <td>8.6</td>\n",
       "      <td>2.3</td>\n",
       "      <td>NaN</td>\n",
       "      <td>NaN</td>\n",
       "      <td>0.421</td>\n",
       "      <td>NaN</td>\n",
       "      <td>0.810</td>\n",
       "      <td>108.8</td>\n",
       "      <td>0.183</td>\n",
       "    </tr>\n",
       "    <tr>\n",
       "      <th>4</th>\n",
       "      <td>2006</td>\n",
       "      <td>Charles Barkley</td>\n",
       "      <td>1073.0</td>\n",
       "      <td>22.1</td>\n",
       "      <td>11.7</td>\n",
       "      <td>3.9</td>\n",
       "      <td>1.5</td>\n",
       "      <td>0.8</td>\n",
       "      <td>0.541</td>\n",
       "      <td>0.266</td>\n",
       "      <td>0.735</td>\n",
       "      <td>177.2</td>\n",
       "      <td>0.216</td>\n",
       "    </tr>\n",
       "  </tbody>\n",
       "</table>\n",
       "</div>"
      ],
      "text/plain": [
       "   year                 name   games  points  total_rebounds  assists  steals  \\\n",
       "0  1995  Kareem Abdul-Jabbar  1560.0    24.6            11.2      3.6     0.9   \n",
       "1  2018            Ray Allen  1300.0    18.9             4.1      3.4     1.1   \n",
       "2  1991       Tiny Archibald   876.0    18.8             2.3      7.4     1.1   \n",
       "3  1978          Paul Arizin   713.0    22.8             8.6      2.3     NaN   \n",
       "4  2006      Charles Barkley  1073.0    22.1            11.7      3.9     1.5   \n",
       "\n",
       "   blocks  field_goal  3_point_field_goal  free_throw  win_shares  \\\n",
       "0     2.6       0.559               0.056       0.721       273.4   \n",
       "1     0.2       0.452               0.400       0.894       145.1   \n",
       "2     0.1       0.467               0.224       0.810        83.4   \n",
       "3     NaN       0.421                 NaN       0.810       108.8   \n",
       "4     0.8       0.541               0.266       0.735       177.2   \n",
       "\n",
       "   win_shares_per_48_mins  \n",
       "0                   0.228  \n",
       "1                   0.150  \n",
       "2                   0.128  \n",
       "3                   0.183  \n",
       "4                   0.216  "
      ]
     },
     "execution_count": 13,
     "metadata": {},
     "output_type": "execute_result"
    }
   ],
   "source": [
    "start_time = time.time()\n",
    "data = pd.read_csv(\"data/nba-hall-of-fame.csv\")\n",
    "print(data.shape)\n",
    "data.head()"
   ]
  },
  {
   "cell_type": "code",
   "execution_count": 14,
   "metadata": {
    "scrolled": true
   },
   "outputs": [
    {
     "data": {
      "text/plain": [
       "year                        int64\n",
       "name                       object\n",
       "games                     float64\n",
       "points                    float64\n",
       "total_rebounds            float64\n",
       "assists                   float64\n",
       "steals                    float64\n",
       "blocks                    float64\n",
       "field_goal                float64\n",
       "3_point_field_goal        float64\n",
       "free_throw                float64\n",
       "win_shares                float64\n",
       "win_shares_per_48_mins    float64\n",
       "dtype: object"
      ]
     },
     "execution_count": 14,
     "metadata": {},
     "output_type": "execute_result"
    }
   ],
   "source": [
    "data.dtypes"
   ]
  },
  {
   "cell_type": "code",
   "execution_count": 15,
   "metadata": {},
   "outputs": [
    {
     "data": {
      "text/plain": [
       "year                      False\n",
       "name                      False\n",
       "games                      True\n",
       "points                     True\n",
       "total_rebounds             True\n",
       "assists                    True\n",
       "steals                     True\n",
       "blocks                     True\n",
       "field_goal                 True\n",
       "3_point_field_goal         True\n",
       "free_throw                 True\n",
       "win_shares                 True\n",
       "win_shares_per_48_mins     True\n",
       "dtype: bool"
      ]
     },
     "execution_count": 15,
     "metadata": {},
     "output_type": "execute_result"
    }
   ],
   "source": [
    "data.isnull().any()"
   ]
  },
  {
   "cell_type": "markdown",
   "metadata": {},
   "source": [
    "- As we can see, there are null values in all the columns except year and name"
   ]
  },
  {
   "cell_type": "code",
   "execution_count": 16,
   "metadata": {},
   "outputs": [],
   "source": [
    "# Filling the null values with the mean of that column\n",
    "data = data.fillna(data.mean())"
   ]
  },
  {
   "cell_type": "markdown",
   "metadata": {},
   "source": [
    "### How many players have been awarded hall-of-fame each year?"
   ]
  },
  {
   "cell_type": "code",
   "execution_count": 17,
   "metadata": {},
   "outputs": [
    {
     "data": {
      "text/html": [
       "<div>\n",
       "<style scoped>\n",
       "    .dataframe tbody tr th:only-of-type {\n",
       "        vertical-align: middle;\n",
       "    }\n",
       "\n",
       "    .dataframe tbody tr th {\n",
       "        vertical-align: top;\n",
       "    }\n",
       "\n",
       "    .dataframe thead th {\n",
       "        text-align: right;\n",
       "    }\n",
       "</style>\n",
       "<table border=\"1\" class=\"dataframe\">\n",
       "  <thead>\n",
       "    <tr style=\"text-align: right;\">\n",
       "      <th></th>\n",
       "      <th>year</th>\n",
       "      <th>count</th>\n",
       "    </tr>\n",
       "  </thead>\n",
       "  <tbody>\n",
       "    <tr>\n",
       "      <th>0</th>\n",
       "      <td>1959</td>\n",
       "      <td>4</td>\n",
       "    </tr>\n",
       "    <tr>\n",
       "      <th>1</th>\n",
       "      <td>1960</td>\n",
       "      <td>5</td>\n",
       "    </tr>\n",
       "    <tr>\n",
       "      <th>2</th>\n",
       "      <td>1961</td>\n",
       "      <td>7</td>\n",
       "    </tr>\n",
       "    <tr>\n",
       "      <th>3</th>\n",
       "      <td>1962</td>\n",
       "      <td>4</td>\n",
       "    </tr>\n",
       "    <tr>\n",
       "      <th>4</th>\n",
       "      <td>1963</td>\n",
       "      <td>1</td>\n",
       "    </tr>\n",
       "  </tbody>\n",
       "</table>\n",
       "</div>"
      ],
      "text/plain": [
       "   year  count\n",
       "0  1959      4\n",
       "1  1960      5\n",
       "2  1961      7\n",
       "3  1962      4\n",
       "4  1963      1"
      ]
     },
     "execution_count": 17,
     "metadata": {},
     "output_type": "execute_result"
    }
   ],
   "source": [
    "awardedGroupByYear = data.groupby('year')['name'].count().reset_index(name='count')\n",
    "awardedGroupByYear.head()"
   ]
  },
  {
   "cell_type": "code",
   "execution_count": 18,
   "metadata": {},
   "outputs": [
    {
     "data": {
      "image/png": "[encoded data removed]",
      "text/plain": [
       "<Figure size 432x288 with 1 Axes>"
      ]
     },
     "metadata": {
      "needs_background": "light"
     },
     "output_type": "display_data"
    }
   ],
   "source": [
    "awardedGroupByYear.plot('year', 'count')\n",
    "plt.xticks(np.arange(1955, 2025, step=5), rotation=45)\n",
    "plt.xlabel(\"year (1959-2019)\")\n",
    "plt.ylabel(\"number of players\")\n",
    "plt.title(\"how many players been awarded hall-of-fame each year\")\n",
    "plt.show()"
   ]
  },
  {
   "cell_type": "markdown",
   "metadata": {},
   "source": [
    "### Add 'class' column (0, 1) based on players status in hall-of-fame"
   ]
  },
  {
   "cell_type": "code",
   "execution_count": 19,
   "metadata": {},
   "outputs": [
    {
     "data": {
      "text/html": [
       "<div>\n",
       "<style scoped>\n",
       "    .dataframe tbody tr th:only-of-type {\n",
       "        vertical-align: middle;\n",
       "    }\n",
       "\n",
       "    .dataframe tbody tr th {\n",
       "        vertical-align: top;\n",
       "    }\n",
       "\n",
       "    .dataframe thead th {\n",
       "        text-align: right;\n",
       "    }\n",
       "</style>\n",
       "<table border=\"1\" class=\"dataframe\">\n",
       "  <thead>\n",
       "    <tr style=\"text-align: right;\">\n",
       "      <th></th>\n",
       "      <th>year</th>\n",
       "      <th>name</th>\n",
       "      <th>games</th>\n",
       "      <th>points</th>\n",
       "      <th>total_rebounds</th>\n",
       "      <th>assists</th>\n",
       "      <th>steals</th>\n",
       "      <th>blocks</th>\n",
       "      <th>field_goal</th>\n",
       "      <th>3_point_field_goal</th>\n",
       "      <th>free_throw</th>\n",
       "      <th>win_shares</th>\n",
       "      <th>win_shares_per_48_mins</th>\n",
       "      <th>class</th>\n",
       "    </tr>\n",
       "  </thead>\n",
       "  <tbody>\n",
       "    <tr>\n",
       "      <th>1</th>\n",
       "      <td>1962</td>\n",
       "      <td>Larry Foust</td>\n",
       "      <td>817.0</td>\n",
       "      <td>13.7</td>\n",
       "      <td>9.8</td>\n",
       "      <td>1.7</td>\n",
       "      <td>0.939614</td>\n",
       "      <td>0.544928</td>\n",
       "      <td>0.405</td>\n",
       "      <td>0.263418</td>\n",
       "      <td>0.741</td>\n",
       "      <td>74.3</td>\n",
       "      <td>0.163</td>\n",
       "      <td>0</td>\n",
       "    </tr>\n",
       "    <tr>\n",
       "      <th>2</th>\n",
       "      <td>1966</td>\n",
       "      <td>Red Kerr</td>\n",
       "      <td>905.0</td>\n",
       "      <td>13.8</td>\n",
       "      <td>11.2</td>\n",
       "      <td>2.2</td>\n",
       "      <td>0.939614</td>\n",
       "      <td>0.544928</td>\n",
       "      <td>0.418</td>\n",
       "      <td>0.263418</td>\n",
       "      <td>0.723</td>\n",
       "      <td>61.8</td>\n",
       "      <td>0.107</td>\n",
       "      <td>0</td>\n",
       "    </tr>\n",
       "    <tr>\n",
       "      <th>3</th>\n",
       "      <td>1968</td>\n",
       "      <td>Larry Costello</td>\n",
       "      <td>706.0</td>\n",
       "      <td>12.2</td>\n",
       "      <td>3.8</td>\n",
       "      <td>4.6</td>\n",
       "      <td>0.939614</td>\n",
       "      <td>0.544928</td>\n",
       "      <td>0.438</td>\n",
       "      <td>0.263418</td>\n",
       "      <td>0.841</td>\n",
       "      <td>62.7</td>\n",
       "      <td>0.142</td>\n",
       "      <td>0</td>\n",
       "    </tr>\n",
       "    <tr>\n",
       "      <th>4</th>\n",
       "      <td>1964</td>\n",
       "      <td>Kenny Sears</td>\n",
       "      <td>529.0</td>\n",
       "      <td>13.9</td>\n",
       "      <td>7.8</td>\n",
       "      <td>1.6</td>\n",
       "      <td>0.939614</td>\n",
       "      <td>0.544928</td>\n",
       "      <td>0.455</td>\n",
       "      <td>0.263418</td>\n",
       "      <td>0.826</td>\n",
       "      <td>55.8</td>\n",
       "      <td>0.179</td>\n",
       "      <td>0</td>\n",
       "    </tr>\n",
       "    <tr>\n",
       "      <th>5</th>\n",
       "      <td>1969</td>\n",
       "      <td>Rudy LaRusso</td>\n",
       "      <td>736.0</td>\n",
       "      <td>15.6</td>\n",
       "      <td>9.4</td>\n",
       "      <td>2.1</td>\n",
       "      <td>0.939614</td>\n",
       "      <td>0.544928</td>\n",
       "      <td>0.431</td>\n",
       "      <td>0.263418</td>\n",
       "      <td>0.767</td>\n",
       "      <td>61.4</td>\n",
       "      <td>0.120</td>\n",
       "      <td>0</td>\n",
       "    </tr>\n",
       "  </tbody>\n",
       "</table>\n",
       "</div>"
      ],
      "text/plain": [
       "   year            name  games  points  total_rebounds  assists    steals  \\\n",
       "1  1962     Larry Foust  817.0    13.7             9.8      1.7  0.939614   \n",
       "2  1966        Red Kerr  905.0    13.8            11.2      2.2  0.939614   \n",
       "3  1968  Larry Costello  706.0    12.2             3.8      4.6  0.939614   \n",
       "4  1964     Kenny Sears  529.0    13.9             7.8      1.6  0.939614   \n",
       "5  1969    Rudy LaRusso  736.0    15.6             9.4      2.1  0.939614   \n",
       "\n",
       "     blocks  field_goal  3_point_field_goal  free_throw  win_shares  \\\n",
       "1  0.544928       0.405            0.263418       0.741        74.3   \n",
       "2  0.544928       0.418            0.263418       0.723        61.8   \n",
       "3  0.544928       0.438            0.263418       0.841        62.7   \n",
       "4  0.544928       0.455            0.263418       0.826        55.8   \n",
       "5  0.544928       0.431            0.263418       0.767        61.4   \n",
       "\n",
       "   win_shares_per_48_mins  class  \n",
       "1                   0.163      0  \n",
       "2                   0.107      0  \n",
       "3                   0.142      0  \n",
       "4                   0.179      0  \n",
       "5                   0.120      0  "
      ]
     },
     "execution_count": 19,
     "metadata": {},
     "output_type": "execute_result"
    }
   ],
   "source": [
    "data_candidates['class'] = np.full(data_candidates.shape[0], 0)\n",
    "data_candidates.head()"
   ]
  },
  {
   "cell_type": "code",
   "execution_count": 20,
   "metadata": {},
   "outputs": [
    {
     "data": {
      "text/html": [
       "<div>\n",
       "<style scoped>\n",
       "    .dataframe tbody tr th:only-of-type {\n",
       "        vertical-align: middle;\n",
       "    }\n",
       "\n",
       "    .dataframe tbody tr th {\n",
       "        vertical-align: top;\n",
       "    }\n",
       "\n",
       "    .dataframe thead th {\n",
       "        text-align: right;\n",
       "    }\n",
       "</style>\n",
       "<table border=\"1\" class=\"dataframe\">\n",
       "  <thead>\n",
       "    <tr style=\"text-align: right;\">\n",
       "      <th></th>\n",
       "      <th>year</th>\n",
       "      <th>name</th>\n",
       "      <th>games</th>\n",
       "      <th>points</th>\n",
       "      <th>total_rebounds</th>\n",
       "      <th>assists</th>\n",
       "      <th>steals</th>\n",
       "      <th>blocks</th>\n",
       "      <th>field_goal</th>\n",
       "      <th>3_point_field_goal</th>\n",
       "      <th>free_throw</th>\n",
       "      <th>win_shares</th>\n",
       "      <th>win_shares_per_48_mins</th>\n",
       "      <th>class</th>\n",
       "    </tr>\n",
       "  </thead>\n",
       "  <tbody>\n",
       "    <tr>\n",
       "      <th>0</th>\n",
       "      <td>1995</td>\n",
       "      <td>Kareem Abdul-Jabbar</td>\n",
       "      <td>1560.0</td>\n",
       "      <td>24.6</td>\n",
       "      <td>11.2</td>\n",
       "      <td>3.6</td>\n",
       "      <td>0.900000</td>\n",
       "      <td>2.60</td>\n",
       "      <td>0.559</td>\n",
       "      <td>0.056000</td>\n",
       "      <td>0.721</td>\n",
       "      <td>273.4</td>\n",
       "      <td>0.228</td>\n",
       "      <td>1</td>\n",
       "    </tr>\n",
       "    <tr>\n",
       "      <th>1</th>\n",
       "      <td>2018</td>\n",
       "      <td>Ray Allen</td>\n",
       "      <td>1300.0</td>\n",
       "      <td>18.9</td>\n",
       "      <td>4.1</td>\n",
       "      <td>3.4</td>\n",
       "      <td>1.100000</td>\n",
       "      <td>0.20</td>\n",
       "      <td>0.452</td>\n",
       "      <td>0.400000</td>\n",
       "      <td>0.894</td>\n",
       "      <td>145.1</td>\n",
       "      <td>0.150</td>\n",
       "      <td>1</td>\n",
       "    </tr>\n",
       "    <tr>\n",
       "      <th>2</th>\n",
       "      <td>1991</td>\n",
       "      <td>Tiny Archibald</td>\n",
       "      <td>876.0</td>\n",
       "      <td>18.8</td>\n",
       "      <td>2.3</td>\n",
       "      <td>7.4</td>\n",
       "      <td>1.100000</td>\n",
       "      <td>0.10</td>\n",
       "      <td>0.467</td>\n",
       "      <td>0.224000</td>\n",
       "      <td>0.810</td>\n",
       "      <td>83.4</td>\n",
       "      <td>0.128</td>\n",
       "      <td>1</td>\n",
       "    </tr>\n",
       "    <tr>\n",
       "      <th>3</th>\n",
       "      <td>1978</td>\n",
       "      <td>Paul Arizin</td>\n",
       "      <td>713.0</td>\n",
       "      <td>22.8</td>\n",
       "      <td>8.6</td>\n",
       "      <td>2.3</td>\n",
       "      <td>1.192222</td>\n",
       "      <td>0.86</td>\n",
       "      <td>0.421</td>\n",
       "      <td>0.236679</td>\n",
       "      <td>0.810</td>\n",
       "      <td>108.8</td>\n",
       "      <td>0.183</td>\n",
       "      <td>1</td>\n",
       "    </tr>\n",
       "    <tr>\n",
       "      <th>4</th>\n",
       "      <td>2006</td>\n",
       "      <td>Charles Barkley</td>\n",
       "      <td>1073.0</td>\n",
       "      <td>22.1</td>\n",
       "      <td>11.7</td>\n",
       "      <td>3.9</td>\n",
       "      <td>1.500000</td>\n",
       "      <td>0.80</td>\n",
       "      <td>0.541</td>\n",
       "      <td>0.266000</td>\n",
       "      <td>0.735</td>\n",
       "      <td>177.2</td>\n",
       "      <td>0.216</td>\n",
       "      <td>1</td>\n",
       "    </tr>\n",
       "  </tbody>\n",
       "</table>\n",
       "</div>"
      ],
      "text/plain": [
       "   year                 name   games  points  total_rebounds  assists  \\\n",
       "0  1995  Kareem Abdul-Jabbar  1560.0    24.6            11.2      3.6   \n",
       "1  2018            Ray Allen  1300.0    18.9             4.1      3.4   \n",
       "2  1991       Tiny Archibald   876.0    18.8             2.3      7.4   \n",
       "3  1978          Paul Arizin   713.0    22.8             8.6      2.3   \n",
       "4  2006      Charles Barkley  1073.0    22.1            11.7      3.9   \n",
       "\n",
       "     steals  blocks  field_goal  3_point_field_goal  free_throw  win_shares  \\\n",
       "0  0.900000    2.60       0.559            0.056000       0.721       273.4   \n",
       "1  1.100000    0.20       0.452            0.400000       0.894       145.1   \n",
       "2  1.100000    0.10       0.467            0.224000       0.810        83.4   \n",
       "3  1.192222    0.86       0.421            0.236679       0.810       108.8   \n",
       "4  1.500000    0.80       0.541            0.266000       0.735       177.2   \n",
       "\n",
       "   win_shares_per_48_mins  class  \n",
       "0                   0.228      1  \n",
       "1                   0.150      1  \n",
       "2                   0.128      1  \n",
       "3                   0.183      1  \n",
       "4                   0.216      1  "
      ]
     },
     "execution_count": 20,
     "metadata": {},
     "output_type": "execute_result"
    }
   ],
   "source": [
    "data['class'] = np.full(data.shape[0], 1)\n",
    "data.head()"
   ]
  },
  {
   "cell_type": "markdown",
   "metadata": {},
   "source": [
    "### Merging the dataset to predict next years finalist"
   ]
  },
  {
   "cell_type": "code",
   "execution_count": 21,
   "metadata": {
    "scrolled": true
   },
   "outputs": [
    {
     "name": "stdout",
     "output_type": "stream",
     "text": [
      "(404, 14)\n"
     ]
    },
    {
     "data": {
      "text/html": [
       "<div>\n",
       "<style scoped>\n",
       "    .dataframe tbody tr th:only-of-type {\n",
       "        vertical-align: middle;\n",
       "    }\n",
       "\n",
       "    .dataframe tbody tr th {\n",
       "        vertical-align: top;\n",
       "    }\n",
       "\n",
       "    .dataframe thead th {\n",
       "        text-align: right;\n",
       "    }\n",
       "</style>\n",
       "<table border=\"1\" class=\"dataframe\">\n",
       "  <thead>\n",
       "    <tr style=\"text-align: right;\">\n",
       "      <th></th>\n",
       "      <th>year</th>\n",
       "      <th>name</th>\n",
       "      <th>games</th>\n",
       "      <th>points</th>\n",
       "      <th>total_rebounds</th>\n",
       "      <th>assists</th>\n",
       "      <th>steals</th>\n",
       "      <th>blocks</th>\n",
       "      <th>field_goal</th>\n",
       "      <th>3_point_field_goal</th>\n",
       "      <th>free_throw</th>\n",
       "      <th>win_shares</th>\n",
       "      <th>win_shares_per_48_mins</th>\n",
       "      <th>class</th>\n",
       "    </tr>\n",
       "  </thead>\n",
       "  <tbody>\n",
       "    <tr>\n",
       "      <th>0</th>\n",
       "      <td>1995</td>\n",
       "      <td>Kareem Abdul-Jabbar</td>\n",
       "      <td>1560.0</td>\n",
       "      <td>24.6</td>\n",
       "      <td>11.2</td>\n",
       "      <td>3.6</td>\n",
       "      <td>0.900000</td>\n",
       "      <td>2.60</td>\n",
       "      <td>0.559</td>\n",
       "      <td>0.056000</td>\n",
       "      <td>0.721</td>\n",
       "      <td>273.4</td>\n",
       "      <td>0.228</td>\n",
       "      <td>1</td>\n",
       "    </tr>\n",
       "    <tr>\n",
       "      <th>1</th>\n",
       "      <td>2018</td>\n",
       "      <td>Ray Allen</td>\n",
       "      <td>1300.0</td>\n",
       "      <td>18.9</td>\n",
       "      <td>4.1</td>\n",
       "      <td>3.4</td>\n",
       "      <td>1.100000</td>\n",
       "      <td>0.20</td>\n",
       "      <td>0.452</td>\n",
       "      <td>0.400000</td>\n",
       "      <td>0.894</td>\n",
       "      <td>145.1</td>\n",
       "      <td>0.150</td>\n",
       "      <td>1</td>\n",
       "    </tr>\n",
       "    <tr>\n",
       "      <th>2</th>\n",
       "      <td>1991</td>\n",
       "      <td>Tiny Archibald</td>\n",
       "      <td>876.0</td>\n",
       "      <td>18.8</td>\n",
       "      <td>2.3</td>\n",
       "      <td>7.4</td>\n",
       "      <td>1.100000</td>\n",
       "      <td>0.10</td>\n",
       "      <td>0.467</td>\n",
       "      <td>0.224000</td>\n",
       "      <td>0.810</td>\n",
       "      <td>83.4</td>\n",
       "      <td>0.128</td>\n",
       "      <td>1</td>\n",
       "    </tr>\n",
       "    <tr>\n",
       "      <th>3</th>\n",
       "      <td>1978</td>\n",
       "      <td>Paul Arizin</td>\n",
       "      <td>713.0</td>\n",
       "      <td>22.8</td>\n",
       "      <td>8.6</td>\n",
       "      <td>2.3</td>\n",
       "      <td>1.192222</td>\n",
       "      <td>0.86</td>\n",
       "      <td>0.421</td>\n",
       "      <td>0.236679</td>\n",
       "      <td>0.810</td>\n",
       "      <td>108.8</td>\n",
       "      <td>0.183</td>\n",
       "      <td>1</td>\n",
       "    </tr>\n",
       "    <tr>\n",
       "      <th>4</th>\n",
       "      <td>2006</td>\n",
       "      <td>Charles Barkley</td>\n",
       "      <td>1073.0</td>\n",
       "      <td>22.1</td>\n",
       "      <td>11.7</td>\n",
       "      <td>3.9</td>\n",
       "      <td>1.500000</td>\n",
       "      <td>0.80</td>\n",
       "      <td>0.541</td>\n",
       "      <td>0.266000</td>\n",
       "      <td>0.735</td>\n",
       "      <td>177.2</td>\n",
       "      <td>0.216</td>\n",
       "      <td>1</td>\n",
       "    </tr>\n",
       "  </tbody>\n",
       "</table>\n",
       "</div>"
      ],
      "text/plain": [
       "   year                 name   games  points  total_rebounds  assists  \\\n",
       "0  1995  Kareem Abdul-Jabbar  1560.0    24.6            11.2      3.6   \n",
       "1  2018            Ray Allen  1300.0    18.9             4.1      3.4   \n",
       "2  1991       Tiny Archibald   876.0    18.8             2.3      7.4   \n",
       "3  1978          Paul Arizin   713.0    22.8             8.6      2.3   \n",
       "4  2006      Charles Barkley  1073.0    22.1            11.7      3.9   \n",
       "\n",
       "     steals  blocks  field_goal  3_point_field_goal  free_throw  win_shares  \\\n",
       "0  0.900000    2.60       0.559            0.056000       0.721       273.4   \n",
       "1  1.100000    0.20       0.452            0.400000       0.894       145.1   \n",
       "2  1.100000    0.10       0.467            0.224000       0.810        83.4   \n",
       "3  1.192222    0.86       0.421            0.236679       0.810       108.8   \n",
       "4  1.500000    0.80       0.541            0.266000       0.735       177.2   \n",
       "\n",
       "   win_shares_per_48_mins  class  \n",
       "0                   0.228      1  \n",
       "1                   0.150      1  \n",
       "2                   0.128      1  \n",
       "3                   0.183      1  \n",
       "4                   0.216      1  "
      ]
     },
     "execution_count": 21,
     "metadata": {},
     "output_type": "execute_result"
    }
   ],
   "source": [
    "data_all = pd.concat([data, data_candidates])\n",
    "print(data_all.shape)\n",
    "data_all.head()"
   ]
  },
  {
   "cell_type": "code",
   "execution_count": 22,
   "metadata": {},
   "outputs": [
    {
     "data": {
      "text/plain": [
       "year                      False\n",
       "name                      False\n",
       "games                     False\n",
       "points                    False\n",
       "total_rebounds            False\n",
       "assists                   False\n",
       "steals                    False\n",
       "blocks                    False\n",
       "field_goal                False\n",
       "3_point_field_goal        False\n",
       "free_throw                False\n",
       "win_shares                False\n",
       "win_shares_per_48_mins    False\n",
       "class                     False\n",
       "dtype: bool"
      ]
     },
     "execution_count": 22,
     "metadata": {},
     "output_type": "execute_result"
    }
   ],
   "source": [
    "data_all.isnull().any()"
   ]
  },
  {
   "cell_type": "markdown",
   "metadata": {},
   "source": [
    "## 3. Using prediction algorithms from scikit-learn to predict this years candidate"
   ]
  },
  {
   "cell_type": "code",
   "execution_count": 23,
   "metadata": {},
   "outputs": [],
   "source": [
    "from sklearn import preprocessing\n",
    "\n",
    "from sklearn.tree import DecisionTreeClassifier\n",
    "from sklearn.naive_bayes import GaussianNB\n",
    "from sklearn.linear_model import Perceptron\n",
    "from sklearn.linear_model import LogisticRegression\n",
    "from sklearn.neighbors import KNeighborsClassifier\n",
    "from sklearn import svm\n",
    "\n",
    "from sklearn import metrics\n",
    "from sklearn.feature_selection import SelectKBest, f_classif\n",
    "from sklearn.preprocessing import Normalizer\n",
    "from sklearn.model_selection import train_test_split\n",
    "from sklearn.model_selection import cross_validate"
   ]
  },
  {
   "cell_type": "code",
   "execution_count": 24,
   "metadata": {},
   "outputs": [
    {
     "name": "stdout",
     "output_type": "stream",
     "text": [
      "(404, 11)\n",
      "(404,)\n"
     ]
    }
   ],
   "source": [
    "# extract underlying numpy arrays\n",
    "X = data_all.iloc[:,2:-1].values   \n",
    "y = np.ravel(data_all.iloc[:,-1:].values)\n",
    "\n",
    "print(X.shape)\n",
    "print(y.shape)"
   ]
  },
  {
   "cell_type": "markdown",
   "metadata": {},
   "source": [
    "### 3.1 Decision Tree"
   ]
  },
  {
   "cell_type": "code",
   "execution_count": 25,
   "metadata": {},
   "outputs": [],
   "source": [
    "# instantiate the model (using the default parameters)\n",
    "tree = DecisionTreeClassifier()\n",
    "\n",
    "# fit the model with data\n",
    "tree.fit(X, y)\n",
    "\n",
    "# predict the response for new observations\n",
    "pred_tree = tree.predict(cur_candidates.iloc[:,2:].values)\n",
    "candidate_prediction = cur_candidates.iloc[:,0:2]\n",
    "candidate_prediction['pred_tree'] = pred_tree"
   ]
  },
  {
   "cell_type": "markdown",
   "metadata": {},
   "source": [
    "### 3.2 Naive Bayes"
   ]
  },
  {
   "cell_type": "code",
   "execution_count": 26,
   "metadata": {},
   "outputs": [],
   "source": [
    "nb = GaussianNB()\n",
    "\n",
    "nb.fit(X, y)\n",
    "\n",
    "pred_nb = nb.predict(cur_candidates.iloc[:,2:].values)\n",
    "\n",
    "candidate_prediction['pred_nb'] = pred_nb"
   ]
  },
  {
   "cell_type": "markdown",
   "metadata": {},
   "source": [
    "### 3.3 Perceptron"
   ]
  },
  {
   "cell_type": "code",
   "execution_count": 27,
   "metadata": {},
   "outputs": [],
   "source": [
    "percep = Perceptron()\n",
    "\n",
    "percep.fit(X, y)\n",
    "\n",
    "pred_precep = percep.predict(cur_candidates.iloc[:,2:].values)\n",
    "\n",
    "candidate_prediction['pred_percep'] = pred_precep"
   ]
  },
  {
   "cell_type": "markdown",
   "metadata": {},
   "source": [
    "### 3.4 Logistic Regression"
   ]
  },
  {
   "cell_type": "code",
   "execution_count": 28,
   "metadata": {},
   "outputs": [],
   "source": [
    "logreg = LogisticRegression()\n",
    "\n",
    "logreg.fit(X, y)\n",
    "\n",
    "pred_logreg = logreg.predict(cur_candidates.iloc[:,2:].values)\n",
    "\n",
    "# predict the probability towards getting to hallof fame for new observations\n",
    "pred_prob_logreg = logreg.predict_proba(cur_candidates.iloc[:,2:].values)[:,1]\n",
    "\n",
    "\n",
    "candidate_prediction['pred_logreg'] = pred_logreg\n",
    "candidate_prediction['pred_logreg_prob'] = pred_prob_logreg"
   ]
  },
  {
   "cell_type": "markdown",
   "metadata": {},
   "source": [
    "### 3.5 K nearest neighbors"
   ]
  },
  {
   "cell_type": "code",
   "execution_count": 29,
   "metadata": {
    "scrolled": true
   },
   "outputs": [],
   "source": [
    "knn = KNeighborsClassifier(n_neighbors=1)\n",
    "\n",
    "knn.fit(X, y)\n",
    "\n",
    "pred_knn = knn.predict(cur_candidates.iloc[:,2:].values)\n",
    "\n",
    "candidate_prediction['pred_knn'] = pred_knn"
   ]
  },
  {
   "cell_type": "markdown",
   "metadata": {},
   "source": [
    "### 3.6 Support vector machine"
   ]
  },
  {
   "cell_type": "code",
   "execution_count": 30,
   "metadata": {},
   "outputs": [
    {
     "data": {
      "text/html": [
       "<div>\n",
       "<style scoped>\n",
       "    .dataframe tbody tr th:only-of-type {\n",
       "        vertical-align: middle;\n",
       "    }\n",
       "\n",
       "    .dataframe tbody tr th {\n",
       "        vertical-align: top;\n",
       "    }\n",
       "\n",
       "    .dataframe thead th {\n",
       "        text-align: right;\n",
       "    }\n",
       "</style>\n",
       "<table border=\"1\" class=\"dataframe\">\n",
       "  <thead>\n",
       "    <tr style=\"text-align: right;\">\n",
       "      <th></th>\n",
       "      <th>year</th>\n",
       "      <th>name</th>\n",
       "      <th>pred_tree</th>\n",
       "      <th>pred_nb</th>\n",
       "      <th>pred_percep</th>\n",
       "      <th>pred_logreg</th>\n",
       "      <th>pred_logreg_prob</th>\n",
       "      <th>pred_knn</th>\n",
       "      <th>pred_svm</th>\n",
       "    </tr>\n",
       "  </thead>\n",
       "  <tbody>\n",
       "    <tr>\n",
       "      <th>169</th>\n",
       "      <td>2016</td>\n",
       "      <td>Kevin Garnett</td>\n",
       "      <td>1</td>\n",
       "      <td>1</td>\n",
       "      <td>1</td>\n",
       "      <td>1</td>\n",
       "      <td>0.989130</td>\n",
       "      <td>1</td>\n",
       "      <td>1</td>\n",
       "    </tr>\n",
       "    <tr>\n",
       "      <th>178</th>\n",
       "      <td>2016</td>\n",
       "      <td>Kobe Bryant</td>\n",
       "      <td>1</td>\n",
       "      <td>1</td>\n",
       "      <td>1</td>\n",
       "      <td>1</td>\n",
       "      <td>0.980610</td>\n",
       "      <td>1</td>\n",
       "      <td>1</td>\n",
       "    </tr>\n",
       "    <tr>\n",
       "      <th>181</th>\n",
       "      <td>2016</td>\n",
       "      <td>Tim Duncan</td>\n",
       "      <td>1</td>\n",
       "      <td>1</td>\n",
       "      <td>1</td>\n",
       "      <td>1</td>\n",
       "      <td>0.999259</td>\n",
       "      <td>1</td>\n",
       "      <td>1</td>\n",
       "    </tr>\n",
       "    <tr>\n",
       "      <th>192</th>\n",
       "      <td>2016</td>\n",
       "      <td>Andre Miller</td>\n",
       "      <td>1</td>\n",
       "      <td>0</td>\n",
       "      <td>0</td>\n",
       "      <td>0</td>\n",
       "      <td>0.078928</td>\n",
       "      <td>0</td>\n",
       "      <td>0</td>\n",
       "    </tr>\n",
       "    <tr>\n",
       "      <th>198</th>\n",
       "      <td>2016</td>\n",
       "      <td>Elton Brand</td>\n",
       "      <td>1</td>\n",
       "      <td>1</td>\n",
       "      <td>1</td>\n",
       "      <td>1</td>\n",
       "      <td>0.868742</td>\n",
       "      <td>0</td>\n",
       "      <td>1</td>\n",
       "    </tr>\n",
       "    <tr>\n",
       "      <th>208</th>\n",
       "      <td>2016</td>\n",
       "      <td>Amar'e Stoudemire</td>\n",
       "      <td>1</td>\n",
       "      <td>1</td>\n",
       "      <td>1</td>\n",
       "      <td>1</td>\n",
       "      <td>0.833576</td>\n",
       "      <td>1</td>\n",
       "      <td>1</td>\n",
       "    </tr>\n",
       "    <tr>\n",
       "      <th>209</th>\n",
       "      <td>2016</td>\n",
       "      <td>Tayshaun Prince</td>\n",
       "      <td>0</td>\n",
       "      <td>0</td>\n",
       "      <td>0</td>\n",
       "      <td>0</td>\n",
       "      <td>0.017376</td>\n",
       "      <td>0</td>\n",
       "      <td>0</td>\n",
       "    </tr>\n",
       "    <tr>\n",
       "      <th>211</th>\n",
       "      <td>2016</td>\n",
       "      <td>Caron Butler</td>\n",
       "      <td>0</td>\n",
       "      <td>0</td>\n",
       "      <td>0</td>\n",
       "      <td>0</td>\n",
       "      <td>0.034103</td>\n",
       "      <td>0</td>\n",
       "      <td>0</td>\n",
       "    </tr>\n",
       "    <tr>\n",
       "      <th>213</th>\n",
       "      <td>2016</td>\n",
       "      <td>Kirk Hinrich</td>\n",
       "      <td>0</td>\n",
       "      <td>0</td>\n",
       "      <td>0</td>\n",
       "      <td>0</td>\n",
       "      <td>0.054405</td>\n",
       "      <td>0</td>\n",
       "      <td>0</td>\n",
       "    </tr>\n",
       "    <tr>\n",
       "      <th>214</th>\n",
       "      <td>2016</td>\n",
       "      <td>Chris Bosh</td>\n",
       "      <td>1</td>\n",
       "      <td>1</td>\n",
       "      <td>1</td>\n",
       "      <td>1</td>\n",
       "      <td>0.891396</td>\n",
       "      <td>1</td>\n",
       "      <td>1</td>\n",
       "    </tr>\n",
       "    <tr>\n",
       "      <th>215</th>\n",
       "      <td>2016</td>\n",
       "      <td>Kevin Martin</td>\n",
       "      <td>0</td>\n",
       "      <td>0</td>\n",
       "      <td>0</td>\n",
       "      <td>0</td>\n",
       "      <td>0.213112</td>\n",
       "      <td>0</td>\n",
       "      <td>0</td>\n",
       "    </tr>\n",
       "  </tbody>\n",
       "</table>\n",
       "</div>"
      ],
      "text/plain": [
       "     year               name  pred_tree  pred_nb  pred_percep  pred_logreg  \\\n",
       "169  2016      Kevin Garnett          1        1            1            1   \n",
       "178  2016        Kobe Bryant          1        1            1            1   \n",
       "181  2016         Tim Duncan          1        1            1            1   \n",
       "192  2016       Andre Miller          1        0            0            0   \n",
       "198  2016        Elton Brand          1        1            1            1   \n",
       "208  2016  Amar'e Stoudemire          1        1            1            1   \n",
       "209  2016    Tayshaun Prince          0        0            0            0   \n",
       "211  2016       Caron Butler          0        0            0            0   \n",
       "213  2016       Kirk Hinrich          0        0            0            0   \n",
       "214  2016         Chris Bosh          1        1            1            1   \n",
       "215  2016       Kevin Martin          0        0            0            0   \n",
       "\n",
       "     pred_logreg_prob  pred_knn  pred_svm  \n",
       "169          0.989130         1         1  \n",
       "178          0.980610         1         1  \n",
       "181          0.999259         1         1  \n",
       "192          0.078928         0         0  \n",
       "198          0.868742         0         1  \n",
       "208          0.833576         1         1  \n",
       "209          0.017376         0         0  \n",
       "211          0.034103         0         0  \n",
       "213          0.054405         0         0  \n",
       "214          0.891396         1         1  \n",
       "215          0.213112         0         0  "
      ]
     },
     "execution_count": 30,
     "metadata": {},
     "output_type": "execute_result"
    }
   ],
   "source": [
    "svmachine = svm.SVC(kernel='linear')\n",
    "\n",
    "svmachine.fit(X, y)\n",
    "\n",
    "pred_svm = svmachine.predict(cur_candidates.iloc[:,2:].values)\n",
    "\n",
    "candidate_prediction['pred_svm'] = pred_svm\n",
    "candidate_prediction"
   ]
  },
  {
   "cell_type": "markdown",
   "metadata": {},
   "source": [
    "## 4. Give a comparison(accuracy, auc etc.) among these classifier based on different strategy(feature engineering, normalization etc.)"
   ]
  },
  {
   "cell_type": "markdown",
   "metadata": {},
   "source": [
    "### 4.1 Normal split"
   ]
  },
  {
   "cell_type": "code",
   "execution_count": 31,
   "metadata": {},
   "outputs": [],
   "source": [
    "rows_list = []\n",
    "auc_list = []\n",
    "\n",
    "X_train, X_test, y_train, y_test = train_test_split(X, y, test_size=0.20)\n",
    "\n",
    "tree.fit(X_train, y_train)\n",
    "logreg.fit(X_train, y_train)\n",
    "percep.fit(X_train, y_train)\n",
    "nb.fit(X_train, y_train)\n",
    "knn.fit(X_train, y_train)\n",
    "svmachine.fit(X_train, y_train)\n",
    "\n",
    "# predict the response on the train dataset\n",
    "y_pred_tree   = tree.predict(X_test)\n",
    "y_pred_logreg = logreg.predict(X_test)\n",
    "y_pred_percep = percep.predict(X_test)\n",
    "y_pred_nb     = nb.predict(X_test)\n",
    "y_pred_knn    = knn.predict(X_test)\n",
    "y_pred_svm    = svmachine.predict(X_test)\n",
    "\n",
    "rows_list.append(['Decision Tree', 'normal-split', metrics.accuracy_score(y_test, y_pred_tree)])\n",
    "rows_list.append(['Logistic Regression', 'normal-split', metrics.accuracy_score(y_test, y_pred_logreg)])\n",
    "rows_list.append(['Perceptron', 'normal-split', metrics.accuracy_score(y_test, y_pred_percep)])\n",
    "rows_list.append(['Naive Bayes', 'normal-split', metrics.accuracy_score(y_test, y_pred_nb)])\n",
    "rows_list.append(['KNN', 'normal-split', metrics.accuracy_score(y_test, y_pred_knn)])\n",
    "rows_list.append(['SVM', 'normal-split', metrics.accuracy_score(y_test, y_pred_svm)])\n",
    "\n",
    "fpr, tpr, threshold = metrics.roc_curve(y_test, y_pred_tree)\n",
    "auc_list.append(['Decision Tree', 'normal-split', metrics.auc(fpr, tpr)])\n",
    "fpr, tpr, threshold = metrics.roc_curve(y_test, y_pred_logreg)\n",
    "auc_list.append(['Logistic Regression', 'normal-split', metrics.auc(fpr, tpr)])\n",
    "fpr, tpr, threshold = metrics.roc_curve(y_test, y_pred_percep)\n",
    "auc_list.append(['Perceptron', 'normal-split', metrics.auc(fpr, tpr)])\n",
    "fpr, tpr, threshold = metrics.roc_curve(y_test, y_pred_nb)\n",
    "auc_list.append(['Naive Bayes', 'normal-split', metrics.auc(fpr, tpr)])\n",
    "fpr, tpr, threshold = metrics.roc_curve(y_test, y_pred_knn)\n",
    "auc_list.append(['KNN', 'normal-split', metrics.auc(fpr, tpr)])\n",
    "fpr, tpr, threshold = metrics.roc_curve(y_test, y_pred_svm)\n",
    "auc_list.append(['SVM', 'normal-split', metrics.auc(fpr, tpr)])"
   ]
  },
  {
   "cell_type": "markdown",
   "metadata": {},
   "source": [
    "### 4.2 Feature engineering"
   ]
  },
  {
   "cell_type": "code",
   "execution_count": 32,
   "metadata": {},
   "outputs": [],
   "source": [
    "selector = SelectKBest(f_classif, k=5)\n",
    "X_new = selector.fit_transform(X, y)\n",
    "\n",
    "X_train, X_test, y_train, y_test = train_test_split(X_new, y, test_size=0.20)\n",
    "\n",
    "tree.fit(X_train, y_train)\n",
    "logreg.fit(X_train, y_train)\n",
    "percep.fit(X_train, y_train)\n",
    "nb.fit(X_train, y_train)\n",
    "knn.fit(X_train, y_train)\n",
    "svmachine.fit(X_train, y_train)\n",
    "\n",
    "# predict the response on the train dataset\n",
    "y_pred_tree   = tree.predict(X_test)\n",
    "y_pred_logreg = logreg.predict(X_test)\n",
    "y_pred_percep = percep.predict(X_test)\n",
    "y_pred_nb     = nb.predict(X_test)\n",
    "y_pred_knn    = knn.predict(X_test)\n",
    "y_pred_svm    = svmachine.predict(X_test)\n",
    "\n",
    "rows_list.append(['Decision Tree', 'feature-eng', metrics.accuracy_score(y_test, y_pred_tree)])\n",
    "rows_list.append(['Logistic Regression', 'feature-eng', metrics.accuracy_score(y_test, y_pred_logreg)])\n",
    "rows_list.append(['Perceptron', 'feature-eng', metrics.accuracy_score(y_test, y_pred_percep)])\n",
    "rows_list.append(['Naive Bayes', 'feature-eng', metrics.accuracy_score(y_test, y_pred_nb)])\n",
    "rows_list.append(['KNN', 'feature-eng', metrics.accuracy_score(y_test, y_pred_knn)])\n",
    "rows_list.append(['SVM', 'feature-eng', metrics.accuracy_score(y_test, y_pred_svm)])\n",
    "\n",
    "fpr, tpr, threshold = metrics.roc_curve(y_test, y_pred_tree)\n",
    "auc_list.append(['Decision Tree', 'feature-eng', metrics.auc(fpr, tpr)])\n",
    "fpr, tpr, threshold = metrics.roc_curve(y_test, y_pred_logreg)\n",
    "auc_list.append(['Logistic Regression', 'feature-eng', metrics.auc(fpr, tpr)])\n",
    "fpr, tpr, threshold = metrics.roc_curve(y_test, y_pred_percep)\n",
    "auc_list.append(['Perceptron', 'feature-eng', metrics.auc(fpr, tpr)])\n",
    "fpr, tpr, threshold = metrics.roc_curve(y_test, y_pred_nb)\n",
    "auc_list.append(['Naive Bayes', 'feature-eng', metrics.auc(fpr, tpr)])\n",
    "fpr, tpr, threshold = metrics.roc_curve(y_test, y_pred_knn)\n",
    "auc_list.append(['KNN', 'feature-eng', metrics.auc(fpr, tpr)])\n",
    "fpr, tpr, threshold = metrics.roc_curve(y_test, y_pred_svm)\n",
    "auc_list.append(['SVM', 'feature-eng', metrics.auc(fpr, tpr)])"
   ]
  },
  {
   "cell_type": "code",
   "execution_count": 33,
   "metadata": {},
   "outputs": [
    {
     "data": {
      "text/plain": [
       "array([ 1,  2,  5,  9, 10], dtype=int64)"
      ]
     },
     "execution_count": 33,
     "metadata": {},
     "output_type": "execute_result"
    }
   ],
   "source": [
    "important_columns = selector.get_support(indices=True)\n",
    "important_columns"
   ]
  },
  {
   "cell_type": "markdown",
   "metadata": {},
   "source": [
    "- this shows the important columns in the dataset"
   ]
  },
  {
   "cell_type": "markdown",
   "metadata": {},
   "source": [
    "### 4.3 Normalization"
   ]
  },
  {
   "cell_type": "code",
   "execution_count": 34,
   "metadata": {
    "scrolled": true
   },
   "outputs": [],
   "source": [
    "normalizer = preprocessing.Normalizer().fit(X)\n",
    "X_norm = normalizer.transform(X)\n",
    "\n",
    "X_train, X_test, y_train, y_test = train_test_split(X_norm, y, test_size=0.20)\n",
    "\n",
    "tree.fit(X_train, y_train)\n",
    "logreg.fit(X_train, y_train)\n",
    "percep.fit(X_train, y_train)\n",
    "nb.fit(X_train, y_train)\n",
    "knn.fit(X_train, y_train)\n",
    "svmachine.fit(X_train, y_train)\n",
    "\n",
    "# predict the response on the train dataset\n",
    "y_pred_tree   = tree.predict(X_test)\n",
    "y_pred_logreg = logreg.predict(X_test)\n",
    "y_pred_percep = percep.predict(X_test)\n",
    "y_pred_nb     = nb.predict(X_test)\n",
    "y_pred_knn    = knn.predict(X_test)\n",
    "y_pred_svm    = svmachine.predict(X_test)\n",
    "\n",
    "rows_list.append(['Decision Tree', 'normalization', metrics.accuracy_score(y_test, y_pred_tree)])\n",
    "rows_list.append(['Logistic Regression', 'normalization', metrics.accuracy_score(y_test, y_pred_logreg)])\n",
    "rows_list.append(['Perceptron', 'normalization', metrics.accuracy_score(y_test, y_pred_percep)])\n",
    "rows_list.append(['Naive Bayes', 'normalization', metrics.accuracy_score(y_test, y_pred_nb)])\n",
    "rows_list.append(['KNN', 'normalization', metrics.accuracy_score(y_test, y_pred_knn)])\n",
    "rows_list.append(['SVM', 'normalization', metrics.accuracy_score(y_test, y_pred_svm)])\n",
    "\n",
    "fpr, tpr, threshold = metrics.roc_curve(y_test, y_pred_tree)\n",
    "auc_list.append(['Decision Tree', 'normalization', metrics.auc(fpr, tpr)])\n",
    "fpr, tpr, threshold = metrics.roc_curve(y_test, y_pred_logreg)\n",
    "auc_list.append(['Logistic Regression', 'normalization', metrics.auc(fpr, tpr)])\n",
    "fpr, tpr, threshold = metrics.roc_curve(y_test, y_pred_percep)\n",
    "auc_list.append(['Perceptron', 'normalization', metrics.auc(fpr, tpr)])\n",
    "fpr, tpr, threshold = metrics.roc_curve(y_test, y_pred_nb)\n",
    "auc_list.append(['Naive Bayes', 'normalization', metrics.auc(fpr, tpr)])\n",
    "fpr, tpr, threshold = metrics.roc_curve(y_test, y_pred_knn)\n",
    "auc_list.append(['KNN', 'normalization', metrics.auc(fpr, tpr)])\n",
    "fpr, tpr, threshold = metrics.roc_curve(y_test, y_pred_svm)\n",
    "auc_list.append(['SVM', 'normalization', metrics.auc(fpr, tpr)])"
   ]
  },
  {
   "cell_type": "markdown",
   "metadata": {},
   "source": [
    "### *** Accuracy comparison"
   ]
  },
  {
   "cell_type": "code",
   "execution_count": 35,
   "metadata": {
    "scrolled": true
   },
   "outputs": [
    {
     "name": "stdout",
     "output_type": "stream",
     "text": [
      "accuracy of different classifiers\n"
     ]
    },
    {
     "data": {
      "text/html": [
       "<div>\n",
       "<style scoped>\n",
       "    .dataframe tbody tr th:only-of-type {\n",
       "        vertical-align: middle;\n",
       "    }\n",
       "\n",
       "    .dataframe tbody tr th {\n",
       "        vertical-align: top;\n",
       "    }\n",
       "\n",
       "    .dataframe thead th {\n",
       "        text-align: right;\n",
       "    }\n",
       "</style>\n",
       "<table border=\"1\" class=\"dataframe\">\n",
       "  <thead>\n",
       "    <tr style=\"text-align: right;\">\n",
       "      <th></th>\n",
       "      <th></th>\n",
       "      <th>Decision Tree</th>\n",
       "      <th>Logistic Regression</th>\n",
       "      <th>Perceptron</th>\n",
       "      <th>Naive Bayes</th>\n",
       "      <th>KNN</th>\n",
       "      <th>SVM</th>\n",
       "    </tr>\n",
       "  </thead>\n",
       "  <tbody>\n",
       "    <tr>\n",
       "      <th>0</th>\n",
       "      <td>normal-split</td>\n",
       "      <td>0.851852</td>\n",
       "      <td>0.839506</td>\n",
       "      <td>0.432099</td>\n",
       "      <td>0.864198</td>\n",
       "      <td>0.814815</td>\n",
       "      <td>0.864198</td>\n",
       "    </tr>\n",
       "    <tr>\n",
       "      <th>1</th>\n",
       "      <td>feature-eng</td>\n",
       "      <td>0.864198</td>\n",
       "      <td>0.790123</td>\n",
       "      <td>0.617284</td>\n",
       "      <td>0.851852</td>\n",
       "      <td>0.740741</td>\n",
       "      <td>0.814815</td>\n",
       "    </tr>\n",
       "    <tr>\n",
       "      <th>2</th>\n",
       "      <td>normalization</td>\n",
       "      <td>0.802469</td>\n",
       "      <td>0.851852</td>\n",
       "      <td>0.493827</td>\n",
       "      <td>0.666667</td>\n",
       "      <td>0.851852</td>\n",
       "      <td>0.506173</td>\n",
       "    </tr>\n",
       "  </tbody>\n",
       "</table>\n",
       "</div>"
      ],
      "text/plain": [
       "                  Decision Tree  Logistic Regression  Perceptron  Naive Bayes  \\\n",
       "0   normal-split       0.851852             0.839506    0.432099     0.864198   \n",
       "1    feature-eng       0.864198             0.790123    0.617284     0.851852   \n",
       "2  normalization       0.802469             0.851852    0.493827     0.666667   \n",
       "\n",
       "        KNN       SVM  \n",
       "0  0.814815  0.864198  \n",
       "1  0.740741  0.814815  \n",
       "2  0.851852  0.506173  "
      ]
     },
     "execution_count": 35,
     "metadata": {},
     "output_type": "execute_result"
    }
   ],
   "source": [
    "accuracy_list = dict()\n",
    "accuracy_list[''] = ['normal-split', 'feature-eng', 'normalization']\n",
    "for row in rows_list:\n",
    "    if row[0] not in accuracy_list:\n",
    "        accuracy_list[row[0]] = []\n",
    "    accuracy_list[row[0]].append(row[2])\n",
    "\n",
    "print(\"accuracy of different classifiers\")\n",
    "pd.DataFrame.from_dict(accuracy_list)"
   ]
  },
  {
   "cell_type": "markdown",
   "metadata": {},
   "source": [
    "- As we can see, perceptron model doesn't perform well in this dataset"
   ]
  },
  {
   "cell_type": "code",
   "execution_count": 36,
   "metadata": {},
   "outputs": [
    {
     "data": {
      "image/png": "[encoded data removed]",
      "text/plain": [
       "<Figure size 1080x504 with 1 Axes>"
      ]
     },
     "metadata": {
      "needs_background": "light"
     },
     "output_type": "display_data"
    }
   ],
   "source": [
    "performance = pd.DataFrame(rows_list, columns=['classifier','type','accuracy'])\n",
    "performance.pivot('classifier','type','accuracy').plot(kind='bar', figsize=(15, 7), width=0.8, rot=60) # stacked=True\n",
    "plt.title(\"Accuracy of different classifier\")\n",
    "plt.yticks(np.arange(0, 1, step=0.1))\n",
    "plt.ylabel('accuracy')\n",
    "plt.show()"
   ]
  },
  {
   "cell_type": "markdown",
   "metadata": {},
   "source": [
    "### *** AUC comparison"
   ]
  },
  {
   "cell_type": "code",
   "execution_count": 37,
   "metadata": {
    "scrolled": true
   },
   "outputs": [
    {
     "name": "stdout",
     "output_type": "stream",
     "text": [
      "auc of different classifiers\n"
     ]
    },
    {
     "data": {
      "text/html": [
       "<div>\n",
       "<style scoped>\n",
       "    .dataframe tbody tr th:only-of-type {\n",
       "        vertical-align: middle;\n",
       "    }\n",
       "\n",
       "    .dataframe tbody tr th {\n",
       "        vertical-align: top;\n",
       "    }\n",
       "\n",
       "    .dataframe thead th {\n",
       "        text-align: right;\n",
       "    }\n",
       "</style>\n",
       "<table border=\"1\" class=\"dataframe\">\n",
       "  <thead>\n",
       "    <tr style=\"text-align: right;\">\n",
       "      <th></th>\n",
       "      <th></th>\n",
       "      <th>Decision Tree</th>\n",
       "      <th>Logistic Regression</th>\n",
       "      <th>Perceptron</th>\n",
       "      <th>Naive Bayes</th>\n",
       "      <th>KNN</th>\n",
       "      <th>SVM</th>\n",
       "    </tr>\n",
       "  </thead>\n",
       "  <tbody>\n",
       "    <tr>\n",
       "      <th>0</th>\n",
       "      <td>normal-split</td>\n",
       "      <td>0.852484</td>\n",
       "      <td>0.841615</td>\n",
       "      <td>0.5</td>\n",
       "      <td>0.856522</td>\n",
       "      <td>0.816460</td>\n",
       "      <td>0.859938</td>\n",
       "    </tr>\n",
       "    <tr>\n",
       "      <th>1</th>\n",
       "      <td>feature-eng</td>\n",
       "      <td>0.853226</td>\n",
       "      <td>0.805484</td>\n",
       "      <td>0.5</td>\n",
       "      <td>0.843226</td>\n",
       "      <td>0.740968</td>\n",
       "      <td>0.800968</td>\n",
       "    </tr>\n",
       "    <tr>\n",
       "      <th>2</th>\n",
       "      <td>normalization</td>\n",
       "      <td>0.802744</td>\n",
       "      <td>0.850915</td>\n",
       "      <td>0.5</td>\n",
       "      <td>0.663110</td>\n",
       "      <td>0.852134</td>\n",
       "      <td>0.500000</td>\n",
       "    </tr>\n",
       "  </tbody>\n",
       "</table>\n",
       "</div>"
      ],
      "text/plain": [
       "                  Decision Tree  Logistic Regression  Perceptron  Naive Bayes  \\\n",
       "0   normal-split       0.852484             0.841615         0.5     0.856522   \n",
       "1    feature-eng       0.853226             0.805484         0.5     0.843226   \n",
       "2  normalization       0.802744             0.850915         0.5     0.663110   \n",
       "\n",
       "        KNN       SVM  \n",
       "0  0.816460  0.859938  \n",
       "1  0.740968  0.800968  \n",
       "2  0.852134  0.500000  "
      ]
     },
     "execution_count": 37,
     "metadata": {},
     "output_type": "execute_result"
    }
   ],
   "source": [
    "auc_score_list = dict()\n",
    "auc_score_list[''] = ['normal-split', 'feature-eng', 'normalization']\n",
    "for row in auc_list:\n",
    "    if row[0] not in auc_score_list:\n",
    "        auc_score_list[row[0]] = []\n",
    "    auc_score_list[row[0]].append(row[2])\n",
    "\n",
    "print(\"auc of different classifiers\")\n",
    "pd.DataFrame.from_dict(auc_score_list)"
   ]
  },
  {
   "cell_type": "code",
   "execution_count": 38,
   "metadata": {},
   "outputs": [
    {
     "data": {
      "image/png": "[encoded data removed]",
      "text/plain": [
       "<Figure size 1080x504 with 1 Axes>"
      ]
     },
     "metadata": {
      "needs_background": "light"
     },
     "output_type": "display_data"
    }
   ],
   "source": [
    "performance = pd.DataFrame(auc_list, columns=['classifier','type','accuracy'])\n",
    "performance.pivot('classifier','type','accuracy').plot(kind='bar', figsize=(15, 7), width=0.8, rot=60) # stacked=True\n",
    "plt.title(\"AUC of different classifier\")\n",
    "plt.yticks(np.arange(0, 1, step=0.1))\n",
    "plt.ylabel('auc')\n",
    "plt.show()"
   ]
  },
  {
   "cell_type": "markdown",
   "metadata": {},
   "source": [
    "### 4.4 Cross validation"
   ]
  },
  {
   "cell_type": "code",
   "execution_count": 39,
   "metadata": {},
   "outputs": [],
   "source": [
    "treeCross = cross_validate(tree, X, y, cv=4)\n",
    "logregCross = cross_validate(logreg, X, y, cv=4)\n",
    "percepCross = cross_validate(percep, X, y, cv=4)\n",
    "nbCross = cross_validate(nb, X, y, cv=4)\n",
    "knnCross = cross_validate(knn, X, y, cv=4)\n",
    "svmCross = cross_validate(svmachine, X, y, cv=4)"
   ]
  },
  {
   "cell_type": "code",
   "execution_count": 40,
   "metadata": {},
   "outputs": [
    {
     "name": "stdout",
     "output_type": "stream",
     "text": [
      "Accuracy of different classifiers in cross-validation approach with 4 folds\n"
     ]
    },
    {
     "data": {
      "text/html": [
       "<div>\n",
       "<style scoped>\n",
       "    .dataframe tbody tr th:only-of-type {\n",
       "        vertical-align: middle;\n",
       "    }\n",
       "\n",
       "    .dataframe tbody tr th {\n",
       "        vertical-align: top;\n",
       "    }\n",
       "\n",
       "    .dataframe thead th {\n",
       "        text-align: right;\n",
       "    }\n",
       "</style>\n",
       "<table border=\"1\" class=\"dataframe\">\n",
       "  <thead>\n",
       "    <tr style=\"text-align: right;\">\n",
       "      <th></th>\n",
       "      <th></th>\n",
       "      <th>Decision Tree</th>\n",
       "      <th>Logistic Regression</th>\n",
       "      <th>Perceptron</th>\n",
       "      <th>Naive Bayes</th>\n",
       "      <th>KNN</th>\n",
       "      <th>SVM</th>\n",
       "    </tr>\n",
       "  </thead>\n",
       "  <tbody>\n",
       "    <tr>\n",
       "      <th>0</th>\n",
       "      <td>cross-validation-1</td>\n",
       "      <td>0.831683</td>\n",
       "      <td>0.821782</td>\n",
       "      <td>0.841584</td>\n",
       "      <td>0.871287</td>\n",
       "      <td>0.841584</td>\n",
       "      <td>0.831683</td>\n",
       "    </tr>\n",
       "    <tr>\n",
       "      <th>1</th>\n",
       "      <td>cross-validation-2</td>\n",
       "      <td>0.871287</td>\n",
       "      <td>0.871287</td>\n",
       "      <td>0.811881</td>\n",
       "      <td>0.891089</td>\n",
       "      <td>0.801980</td>\n",
       "      <td>0.861386</td>\n",
       "    </tr>\n",
       "    <tr>\n",
       "      <th>2</th>\n",
       "      <td>cross-validation-3</td>\n",
       "      <td>0.881188</td>\n",
       "      <td>0.821782</td>\n",
       "      <td>0.722772</td>\n",
       "      <td>0.821782</td>\n",
       "      <td>0.841584</td>\n",
       "      <td>0.811881</td>\n",
       "    </tr>\n",
       "    <tr>\n",
       "      <th>3</th>\n",
       "      <td>cross-validation-4</td>\n",
       "      <td>0.831683</td>\n",
       "      <td>0.801980</td>\n",
       "      <td>0.831683</td>\n",
       "      <td>0.861386</td>\n",
       "      <td>0.792079</td>\n",
       "      <td>0.772277</td>\n",
       "    </tr>\n",
       "  </tbody>\n",
       "</table>\n",
       "</div>"
      ],
      "text/plain": [
       "                       Decision Tree  Logistic Regression  Perceptron  \\\n",
       "0  cross-validation-1       0.831683             0.821782    0.841584   \n",
       "1  cross-validation-2       0.871287             0.871287    0.811881   \n",
       "2  cross-validation-3       0.881188             0.821782    0.722772   \n",
       "3  cross-validation-4       0.831683             0.801980    0.831683   \n",
       "\n",
       "   Naive Bayes       KNN       SVM  \n",
       "0     0.871287  0.841584  0.831683  \n",
       "1     0.891089  0.801980  0.861386  \n",
       "2     0.821782  0.841584  0.811881  \n",
       "3     0.861386  0.792079  0.772277  "
      ]
     },
     "execution_count": 40,
     "metadata": {},
     "output_type": "execute_result"
    }
   ],
   "source": [
    "rows_list1 = []\n",
    "\n",
    "for i in range(4):\n",
    "    rows_list1.append(['Decision Tree', 'cv'+str(i+1), treeCross['test_score'][i]])\n",
    "    rows_list1.append(['Logistic Regression', 'cv'+str(i+1), logregCross['test_score'][i]])\n",
    "    rows_list1.append(['Perceptron', 'cv'+str(i+1), percepCross['test_score'][i]])\n",
    "    rows_list1.append(['Naive Bayes', 'cv'+str(i+1), nbCross['test_score'][i]])\n",
    "    rows_list1.append(['KNN', 'cv'+str(i+1), knnCross['test_score'][i]])\n",
    "    rows_list1.append(['SVM', 'cv'+str(i+1), svmCross['test_score'][i]])\n",
    "    \n",
    "rows_list2 = []\n",
    "for i in range(4):\n",
    "    rows_list2.append(['Decision Tree', 'cv'+str(i+1), treeCross['fit_time'][i]])\n",
    "    rows_list2.append(['Logistic Regression', 'cv'+str(i+1), logregCross['fit_time'][i]])\n",
    "    rows_list2.append(['Perceptron', 'cv'+str(i+1), percepCross['fit_time'][i]])\n",
    "    rows_list2.append(['Naive Bayes', 'cv'+str(i+1), nbCross['fit_time'][i]])\n",
    "    rows_list2.append(['KNN', 'cv'+str(i+1), knnCross['fit_time'][i]])\n",
    "    rows_list2.append(['SVM', 'cv'+str(i+1), svmCross['fit_time'][i]])\n",
    "\n",
    "    \n",
    "accuracy_list = dict()\n",
    "accuracy_list[''] = ['cross-validation-1', 'cross-validation-2', 'cross-validation-3', 'cross-validation-4']\n",
    "for row in rows_list1:\n",
    "    if row[0] not in accuracy_list:\n",
    "        accuracy_list[row[0]] = []\n",
    "    accuracy_list[row[0]].append(row[2])\n",
    "\n",
    "print(\"Accuracy of different classifiers in cross-validation approach with 4 folds\")\n",
    "pd.DataFrame.from_dict(accuracy_list)\n",
    "# we are using 4 folds here for the cross validation"
   ]
  },
  {
   "cell_type": "code",
   "execution_count": 41,
   "metadata": {},
   "outputs": [
    {
     "name": "stdout",
     "output_type": "stream",
     "text": [
      "Running time of different classifiers in cross-validation approach with 4 folds\n"
     ]
    },
    {
     "data": {
      "text/html": [
       "<div>\n",
       "<style scoped>\n",
       "    .dataframe tbody tr th:only-of-type {\n",
       "        vertical-align: middle;\n",
       "    }\n",
       "\n",
       "    .dataframe tbody tr th {\n",
       "        vertical-align: top;\n",
       "    }\n",
       "\n",
       "    .dataframe thead th {\n",
       "        text-align: right;\n",
       "    }\n",
       "</style>\n",
       "<table border=\"1\" class=\"dataframe\">\n",
       "  <thead>\n",
       "    <tr style=\"text-align: right;\">\n",
       "      <th></th>\n",
       "      <th></th>\n",
       "      <th>Decision Tree</th>\n",
       "      <th>Logistic Regression</th>\n",
       "      <th>Perceptron</th>\n",
       "      <th>Naive Bayes</th>\n",
       "      <th>KNN</th>\n",
       "      <th>SVM</th>\n",
       "    </tr>\n",
       "  </thead>\n",
       "  <tbody>\n",
       "    <tr>\n",
       "      <th>0</th>\n",
       "      <td>cross-validation-1</td>\n",
       "      <td>0.001488</td>\n",
       "      <td>0.001024</td>\n",
       "      <td>0.000991</td>\n",
       "      <td>0.000494</td>\n",
       "      <td>0.000489</td>\n",
       "      <td>4.054270</td>\n",
       "    </tr>\n",
       "    <tr>\n",
       "      <th>1</th>\n",
       "      <td>cross-validation-2</td>\n",
       "      <td>0.001519</td>\n",
       "      <td>0.001010</td>\n",
       "      <td>0.000500</td>\n",
       "      <td>0.000502</td>\n",
       "      <td>0.001016</td>\n",
       "      <td>6.316107</td>\n",
       "    </tr>\n",
       "    <tr>\n",
       "      <th>2</th>\n",
       "      <td>cross-validation-3</td>\n",
       "      <td>0.001025</td>\n",
       "      <td>0.001456</td>\n",
       "      <td>0.000960</td>\n",
       "      <td>0.000529</td>\n",
       "      <td>0.000496</td>\n",
       "      <td>2.025616</td>\n",
       "    </tr>\n",
       "    <tr>\n",
       "      <th>3</th>\n",
       "      <td>cross-validation-4</td>\n",
       "      <td>0.001024</td>\n",
       "      <td>0.001984</td>\n",
       "      <td>0.000497</td>\n",
       "      <td>0.000497</td>\n",
       "      <td>0.000494</td>\n",
       "      <td>4.164461</td>\n",
       "    </tr>\n",
       "  </tbody>\n",
       "</table>\n",
       "</div>"
      ],
      "text/plain": [
       "                       Decision Tree  Logistic Regression  Perceptron  \\\n",
       "0  cross-validation-1       0.001488             0.001024    0.000991   \n",
       "1  cross-validation-2       0.001519             0.001010    0.000500   \n",
       "2  cross-validation-3       0.001025             0.001456    0.000960   \n",
       "3  cross-validation-4       0.001024             0.001984    0.000497   \n",
       "\n",
       "   Naive Bayes       KNN       SVM  \n",
       "0     0.000494  0.000489  4.054270  \n",
       "1     0.000502  0.001016  6.316107  \n",
       "2     0.000529  0.000496  2.025616  \n",
       "3     0.000497  0.000494  4.164461  "
      ]
     },
     "execution_count": 41,
     "metadata": {},
     "output_type": "execute_result"
    }
   ],
   "source": [
    "accuracy_list = dict()\n",
    "accuracy_list[''] = ['cross-validation-1', 'cross-validation-2', 'cross-validation-3', 'cross-validation-4']\n",
    "for row in rows_list2:\n",
    "    if row[0] not in accuracy_list:\n",
    "        accuracy_list[row[0]] = []\n",
    "    accuracy_list[row[0]].append(row[2])\n",
    "\n",
    "print(\"Running time of different classifiers in cross-validation approach with 4 folds\")\n",
    "pd.DataFrame.from_dict(accuracy_list)"
   ]
  },
  {
   "cell_type": "code",
   "execution_count": 42,
   "metadata": {},
   "outputs": [
    {
     "data": {
      "image/png": "[encoded data removed]",
      "text/plain": [
       "<Figure size 1080x504 with 1 Axes>"
      ]
     },
     "metadata": {
      "needs_background": "light"
     },
     "output_type": "display_data"
    }
   ],
   "source": [
    "performance = pd.DataFrame(rows_list1, columns=['classifier','type','accuracy'])\n",
    "performance.pivot('classifier','type','accuracy').plot(kind='bar', figsize=(15, 7), width=0.8, rot=60) # stacked=True\n",
    "plt.title(\"Accuracy of different classifier for cross validation\")\n",
    "plt.yticks(np.arange(0, 1, step=0.1))\n",
    "plt.ylabel('accuracy')\n",
    "plt.show()"
   ]
  },
  {
   "cell_type": "code",
   "execution_count": 43,
   "metadata": {},
   "outputs": [
    {
     "data": {
      "image/png": "[encoded data removed]",
      "text/plain": [
       "<Figure size 1080x504 with 1 Axes>"
      ]
     },
     "metadata": {
      "needs_background": "light"
     },
     "output_type": "display_data"
    }
   ],
   "source": [
    "performance = pd.DataFrame(rows_list2, columns=['classifier','type','time'])\n",
    "performance.pivot('classifier','type','time').plot(kind='bar', figsize=(15, 7), width=0.8, rot=60) # stacked=True\n",
    "plt.title(\"Running time of different classifier for cross validation\")\n",
    "plt.ylabel('execution time')\n",
    "plt.show()"
   ]
  },
  {
   "cell_type": "markdown",
   "metadata": {},
   "source": [
    "- The execution time of some classifiers are quite small compared to the support-vector-machine, that's why they aren't visible in the chart"
   ]
  },
  {
   "cell_type": "markdown",
   "metadata": {},
   "source": [
    "## 5. Predict this years candidate using different Ensemble algorithm"
   ]
  },
  {
   "cell_type": "code",
   "execution_count": 44,
   "metadata": {},
   "outputs": [],
   "source": [
    "from sklearn.ensemble import AdaBoostClassifier\n",
    "from sklearn.ensemble import GradientBoostingClassifier\n",
    "from sklearn.ensemble import RandomForestClassifier\n",
    "import xgboost as xgb"
   ]
  },
  {
   "cell_type": "markdown",
   "metadata": {},
   "source": [
    "### 5.1 AdaBoost"
   ]
  },
  {
   "cell_type": "code",
   "execution_count": 45,
   "metadata": {},
   "outputs": [],
   "source": [
    "# Create adaboost classifer object\n",
    "aboost = AdaBoostClassifier(n_estimators=50, learning_rate=1)\n",
    "\n",
    "aboost.fit(X, y)\n",
    "\n",
    "pred_ab = aboost.predict(cur_candidates.iloc[:,2:].values)\n",
    "\n",
    "candidate_prediction['pred_ab'] = pred_ab"
   ]
  },
  {
   "cell_type": "markdown",
   "metadata": {},
   "source": [
    "### 5.2 Gradient Boost"
   ]
  },
  {
   "cell_type": "code",
   "execution_count": 46,
   "metadata": {},
   "outputs": [],
   "source": [
    "gboost = GradientBoostingClassifier(n_estimators=100, learning_rate=1.0)\n",
    "\n",
    "gboost.fit(X, y)\n",
    "\n",
    "pred_gb = gboost.predict(cur_candidates.iloc[:,2:].values)\n",
    "\n",
    "candidate_prediction['pred_gb'] = pred_gb"
   ]
  },
  {
   "cell_type": "markdown",
   "metadata": {},
   "source": [
    "### 5.3 XGBoost"
   ]
  },
  {
   "cell_type": "code",
   "execution_count": 47,
   "metadata": {},
   "outputs": [],
   "source": [
    "xgboost = xgb.XGBClassifier(random_state=1, learning_rate=0.01)\n",
    "\n",
    "xgboost.fit(X, y)\n",
    "\n",
    "pred_xgb = xgboost.predict(cur_candidates.iloc[:,2:].values)\n",
    "\n",
    "candidate_prediction['pred_xgb'] = pred_xgb"
   ]
  },
  {
   "cell_type": "markdown",
   "metadata": {},
   "source": [
    "### 5.4 Random forest"
   ]
  },
  {
   "cell_type": "code",
   "execution_count": 48,
   "metadata": {},
   "outputs": [
    {
     "data": {
      "text/html": [
       "<div>\n",
       "<style scoped>\n",
       "    .dataframe tbody tr th:only-of-type {\n",
       "        vertical-align: middle;\n",
       "    }\n",
       "\n",
       "    .dataframe tbody tr th {\n",
       "        vertical-align: top;\n",
       "    }\n",
       "\n",
       "    .dataframe thead th {\n",
       "        text-align: right;\n",
       "    }\n",
       "</style>\n",
       "<table border=\"1\" class=\"dataframe\">\n",
       "  <thead>\n",
       "    <tr style=\"text-align: right;\">\n",
       "      <th></th>\n",
       "      <th>year</th>\n",
       "      <th>name</th>\n",
       "      <th>pred_tree</th>\n",
       "      <th>pred_nb</th>\n",
       "      <th>pred_percep</th>\n",
       "      <th>pred_logreg</th>\n",
       "      <th>pred_logreg_prob</th>\n",
       "      <th>pred_knn</th>\n",
       "      <th>pred_svm</th>\n",
       "      <th>pred_ab</th>\n",
       "      <th>pred_gb</th>\n",
       "      <th>pred_xgb</th>\n",
       "      <th>pred_rforest</th>\n",
       "    </tr>\n",
       "  </thead>\n",
       "  <tbody>\n",
       "    <tr>\n",
       "      <th>169</th>\n",
       "      <td>2016</td>\n",
       "      <td>Kevin Garnett</td>\n",
       "      <td>1</td>\n",
       "      <td>1</td>\n",
       "      <td>1</td>\n",
       "      <td>1</td>\n",
       "      <td>0.989130</td>\n",
       "      <td>1</td>\n",
       "      <td>1</td>\n",
       "      <td>1</td>\n",
       "      <td>1</td>\n",
       "      <td>1</td>\n",
       "      <td>1</td>\n",
       "    </tr>\n",
       "    <tr>\n",
       "      <th>178</th>\n",
       "      <td>2016</td>\n",
       "      <td>Kobe Bryant</td>\n",
       "      <td>1</td>\n",
       "      <td>1</td>\n",
       "      <td>1</td>\n",
       "      <td>1</td>\n",
       "      <td>0.980610</td>\n",
       "      <td>1</td>\n",
       "      <td>1</td>\n",
       "      <td>1</td>\n",
       "      <td>1</td>\n",
       "      <td>1</td>\n",
       "      <td>1</td>\n",
       "    </tr>\n",
       "    <tr>\n",
       "      <th>181</th>\n",
       "      <td>2016</td>\n",
       "      <td>Tim Duncan</td>\n",
       "      <td>1</td>\n",
       "      <td>1</td>\n",
       "      <td>1</td>\n",
       "      <td>1</td>\n",
       "      <td>0.999259</td>\n",
       "      <td>1</td>\n",
       "      <td>1</td>\n",
       "      <td>1</td>\n",
       "      <td>1</td>\n",
       "      <td>1</td>\n",
       "      <td>1</td>\n",
       "    </tr>\n",
       "    <tr>\n",
       "      <th>192</th>\n",
       "      <td>2016</td>\n",
       "      <td>Andre Miller</td>\n",
       "      <td>1</td>\n",
       "      <td>0</td>\n",
       "      <td>0</td>\n",
       "      <td>0</td>\n",
       "      <td>0.078928</td>\n",
       "      <td>0</td>\n",
       "      <td>0</td>\n",
       "      <td>0</td>\n",
       "      <td>1</td>\n",
       "      <td>0</td>\n",
       "      <td>1</td>\n",
       "    </tr>\n",
       "    <tr>\n",
       "      <th>198</th>\n",
       "      <td>2016</td>\n",
       "      <td>Elton Brand</td>\n",
       "      <td>1</td>\n",
       "      <td>1</td>\n",
       "      <td>1</td>\n",
       "      <td>1</td>\n",
       "      <td>0.868742</td>\n",
       "      <td>0</td>\n",
       "      <td>1</td>\n",
       "      <td>1</td>\n",
       "      <td>0</td>\n",
       "      <td>1</td>\n",
       "      <td>0</td>\n",
       "    </tr>\n",
       "    <tr>\n",
       "      <th>208</th>\n",
       "      <td>2016</td>\n",
       "      <td>Amar'e Stoudemire</td>\n",
       "      <td>1</td>\n",
       "      <td>1</td>\n",
       "      <td>1</td>\n",
       "      <td>1</td>\n",
       "      <td>0.833576</td>\n",
       "      <td>1</td>\n",
       "      <td>1</td>\n",
       "      <td>1</td>\n",
       "      <td>1</td>\n",
       "      <td>1</td>\n",
       "      <td>1</td>\n",
       "    </tr>\n",
       "    <tr>\n",
       "      <th>209</th>\n",
       "      <td>2016</td>\n",
       "      <td>Tayshaun Prince</td>\n",
       "      <td>0</td>\n",
       "      <td>0</td>\n",
       "      <td>0</td>\n",
       "      <td>0</td>\n",
       "      <td>0.017376</td>\n",
       "      <td>0</td>\n",
       "      <td>0</td>\n",
       "      <td>0</td>\n",
       "      <td>0</td>\n",
       "      <td>0</td>\n",
       "      <td>0</td>\n",
       "    </tr>\n",
       "    <tr>\n",
       "      <th>211</th>\n",
       "      <td>2016</td>\n",
       "      <td>Caron Butler</td>\n",
       "      <td>0</td>\n",
       "      <td>0</td>\n",
       "      <td>0</td>\n",
       "      <td>0</td>\n",
       "      <td>0.034103</td>\n",
       "      <td>0</td>\n",
       "      <td>0</td>\n",
       "      <td>0</td>\n",
       "      <td>0</td>\n",
       "      <td>0</td>\n",
       "      <td>0</td>\n",
       "    </tr>\n",
       "    <tr>\n",
       "      <th>213</th>\n",
       "      <td>2016</td>\n",
       "      <td>Kirk Hinrich</td>\n",
       "      <td>0</td>\n",
       "      <td>0</td>\n",
       "      <td>0</td>\n",
       "      <td>0</td>\n",
       "      <td>0.054405</td>\n",
       "      <td>0</td>\n",
       "      <td>0</td>\n",
       "      <td>0</td>\n",
       "      <td>0</td>\n",
       "      <td>0</td>\n",
       "      <td>0</td>\n",
       "    </tr>\n",
       "    <tr>\n",
       "      <th>214</th>\n",
       "      <td>2016</td>\n",
       "      <td>Chris Bosh</td>\n",
       "      <td>1</td>\n",
       "      <td>1</td>\n",
       "      <td>1</td>\n",
       "      <td>1</td>\n",
       "      <td>0.891396</td>\n",
       "      <td>1</td>\n",
       "      <td>1</td>\n",
       "      <td>1</td>\n",
       "      <td>1</td>\n",
       "      <td>1</td>\n",
       "      <td>1</td>\n",
       "    </tr>\n",
       "    <tr>\n",
       "      <th>215</th>\n",
       "      <td>2016</td>\n",
       "      <td>Kevin Martin</td>\n",
       "      <td>0</td>\n",
       "      <td>0</td>\n",
       "      <td>0</td>\n",
       "      <td>0</td>\n",
       "      <td>0.213112</td>\n",
       "      <td>0</td>\n",
       "      <td>0</td>\n",
       "      <td>0</td>\n",
       "      <td>0</td>\n",
       "      <td>0</td>\n",
       "      <td>0</td>\n",
       "    </tr>\n",
       "  </tbody>\n",
       "</table>\n",
       "</div>"
      ],
      "text/plain": [
       "     year               name  pred_tree  pred_nb  pred_percep  pred_logreg  \\\n",
       "169  2016      Kevin Garnett          1        1            1            1   \n",
       "178  2016        Kobe Bryant          1        1            1            1   \n",
       "181  2016         Tim Duncan          1        1            1            1   \n",
       "192  2016       Andre Miller          1        0            0            0   \n",
       "198  2016        Elton Brand          1        1            1            1   \n",
       "208  2016  Amar'e Stoudemire          1        1            1            1   \n",
       "209  2016    Tayshaun Prince          0        0            0            0   \n",
       "211  2016       Caron Butler          0        0            0            0   \n",
       "213  2016       Kirk Hinrich          0        0            0            0   \n",
       "214  2016         Chris Bosh          1        1            1            1   \n",
       "215  2016       Kevin Martin          0        0            0            0   \n",
       "\n",
       "     pred_logreg_prob  pred_knn  pred_svm  pred_ab  pred_gb  pred_xgb  \\\n",
       "169          0.989130         1         1        1        1         1   \n",
       "178          0.980610         1         1        1        1         1   \n",
       "181          0.999259         1         1        1        1         1   \n",
       "192          0.078928         0         0        0        1         0   \n",
       "198          0.868742         0         1        1        0         1   \n",
       "208          0.833576         1         1        1        1         1   \n",
       "209          0.017376         0         0        0        0         0   \n",
       "211          0.034103         0         0        0        0         0   \n",
       "213          0.054405         0         0        0        0         0   \n",
       "214          0.891396         1         1        1        1         1   \n",
       "215          0.213112         0         0        0        0         0   \n",
       "\n",
       "     pred_rforest  \n",
       "169             1  \n",
       "178             1  \n",
       "181             1  \n",
       "192             1  \n",
       "198             0  \n",
       "208             1  \n",
       "209             0  \n",
       "211             0  \n",
       "213             0  \n",
       "214             1  \n",
       "215             0  "
      ]
     },
     "execution_count": 48,
     "metadata": {},
     "output_type": "execute_result"
    }
   ],
   "source": [
    "rforest = RandomForestClassifier(n_estimators=100)\n",
    "\n",
    "rforest.fit(X, y)\n",
    "\n",
    "pred_rforest = gboost.predict(cur_candidates.iloc[:,2:].values)\n",
    "\n",
    "candidate_prediction['pred_rforest'] = pred_rforest\n",
    "candidate_prediction"
   ]
  },
  {
   "cell_type": "markdown",
   "metadata": {},
   "source": [
    "## 6. Give a comparison(accuracy, auc etc.) among these ensemble models based on different strategy(feature engineering, normalization etc.)"
   ]
  },
  {
   "cell_type": "markdown",
   "metadata": {},
   "source": [
    "### 6.1 Normal split"
   ]
  },
  {
   "cell_type": "code",
   "execution_count": 49,
   "metadata": {
    "scrolled": true
   },
   "outputs": [],
   "source": [
    "rows_list3 = []\n",
    "auc_list1 = []\n",
    "\n",
    "aboost.fit(X_train, y_train)\n",
    "gboost.fit(X_train, y_train)\n",
    "xgboost.fit(X_train, y_train)\n",
    "rforest.fit(X_train, y_train)\n",
    "\n",
    "y_pred_aboost = aboost.predict(X_test)\n",
    "y_pred_gb = gboost.predict(X_test)\n",
    "y_pred_xgb = xgboost.predict(X_test)\n",
    "y_pred_rforest = rforest.predict(X_test)\n",
    "\n",
    "rows_list3.append(['AdaBoost', 'normal-split', metrics.accuracy_score(y_test, y_pred_aboost)])\n",
    "rows_list3.append(['Gradient Boost', 'normal-split', metrics.accuracy_score(y_test, y_pred_gb)])\n",
    "rows_list3.append(['XGBoost', 'normal-split', metrics.accuracy_score(y_test, y_pred_xgb)])\n",
    "rows_list3.append(['Random Forest', 'normal-split', metrics.accuracy_score(y_test, y_pred_rforest)])\n",
    "\n",
    "fpr, tpr, threshold = metrics.roc_curve(y_test, y_pred_aboost)\n",
    "auc_list1.append(['AdaBoost', 'normal-split', metrics.auc(fpr, tpr)])\n",
    "fpr, tpr, threshold = metrics.roc_curve(y_test, y_pred_gb)\n",
    "auc_list1.append(['Gradient Boost', 'normal-split', metrics.auc(fpr, tpr)])\n",
    "fpr, tpr, threshold = metrics.roc_curve(y_test, y_pred_xgb)\n",
    "auc_list1.append(['XGBoost', 'normal-split', metrics.auc(fpr, tpr)])\n",
    "fpr, tpr, threshold = metrics.roc_curve(y_test, y_pred_rforest)\n",
    "auc_list1.append(['Random Forest', 'normal-split', metrics.auc(fpr, tpr)])"
   ]
  },
  {
   "cell_type": "markdown",
   "metadata": {},
   "source": [
    "### 6.2 Feature engineering"
   ]
  },
  {
   "cell_type": "code",
   "execution_count": 50,
   "metadata": {},
   "outputs": [],
   "source": [
    "selector = SelectKBest(f_classif, k=5)\n",
    "X_new = selector.fit_transform(X, y)\n",
    "\n",
    "X_train, X_test, y_train, y_test = train_test_split(X_new, y, test_size=0.20)\n",
    "\n",
    "aboost.fit(X_train, y_train)\n",
    "gboost.fit(X_train, y_train)\n",
    "xgboost.fit(X_train, y_train)\n",
    "rforest.fit(X_train, y_train)\n",
    "\n",
    "y_pred_aboost = aboost.predict(X_test)\n",
    "y_pred_gb = gboost.predict(X_test)\n",
    "y_pred_xgb = xgboost.predict(X_test)\n",
    "y_pred_rforest = rforest.predict(X_test)\n",
    "\n",
    "rows_list3.append(['AdaBoost', 'feature-eng', metrics.accuracy_score(y_test, y_pred_aboost)])\n",
    "rows_list3.append(['Gradient Boost', 'feature-eng', metrics.accuracy_score(y_test, y_pred_gb)])\n",
    "rows_list3.append(['XGBoost', 'feature-eng', metrics.accuracy_score(y_test, y_pred_xgb)])\n",
    "rows_list3.append(['Random Forest', 'feature-eng', metrics.accuracy_score(y_test, y_pred_rforest)])\n",
    "\n",
    "fpr, tpr, threshold = metrics.roc_curve(y_test, y_pred_aboost)\n",
    "auc_list1.append(['AdaBoost', 'feature-eng', metrics.auc(fpr, tpr)])\n",
    "fpr, tpr, threshold = metrics.roc_curve(y_test, y_pred_gb)\n",
    "auc_list1.append(['Gradient Boost', 'feature-eng', metrics.auc(fpr, tpr)])\n",
    "fpr, tpr, threshold = metrics.roc_curve(y_test, y_pred_xgb)\n",
    "auc_list1.append(['XGBoost', 'feature-eng', metrics.auc(fpr, tpr)])\n",
    "fpr, tpr, threshold = metrics.roc_curve(y_test, y_pred_rforest)\n",
    "auc_list1.append(['Random Forest', 'feature-eng', metrics.auc(fpr, tpr)])"
   ]
  },
  {
   "cell_type": "markdown",
   "metadata": {},
   "source": [
    "### 6.3 Normalization"
   ]
  },
  {
   "cell_type": "code",
   "execution_count": 51,
   "metadata": {
    "scrolled": true
   },
   "outputs": [],
   "source": [
    "normalizer = preprocessing.Normalizer().fit(X)\n",
    "X_norm = normalizer.transform(X)\n",
    "\n",
    "X_train, X_test, y_train, y_test = train_test_split(X_norm, y, test_size=0.20)\n",
    "\n",
    "aboost.fit(X_train, y_train)\n",
    "gboost.fit(X_train, y_train)\n",
    "xgboost.fit(X_train, y_train)\n",
    "rforest.fit(X_train, y_train)\n",
    "\n",
    "y_pred_aboost = aboost.predict(X_test)\n",
    "y_pred_gb = gboost.predict(X_test)\n",
    "y_pred_xgb = xgboost.predict(X_test)\n",
    "y_pred_rforest = rforest.predict(X_test)\n",
    "\n",
    "rows_list3.append(['AdaBoost', 'normalization', metrics.accuracy_score(y_test, y_pred_aboost)])\n",
    "rows_list3.append(['Gradient Boost', 'normalization', metrics.accuracy_score(y_test, y_pred_gb)])\n",
    "rows_list3.append(['XGBoost', 'normalization', metrics.accuracy_score(y_test, y_pred_xgb)])\n",
    "rows_list3.append(['Random Forest', 'normalization', metrics.accuracy_score(y_test, y_pred_rforest)])\n",
    "\n",
    "fpr, tpr, threshold = metrics.roc_curve(y_test, y_pred_aboost)\n",
    "auc_list1.append(['AdaBoost', 'normalization', metrics.auc(fpr, tpr)])\n",
    "fpr, tpr, threshold = metrics.roc_curve(y_test, y_pred_gb)\n",
    "auc_list1.append(['Gradient Boost', 'normalization', metrics.auc(fpr, tpr)])\n",
    "fpr, tpr, threshold = metrics.roc_curve(y_test, y_pred_xgb)\n",
    "auc_list1.append(['XGBoost', 'normalization', metrics.auc(fpr, tpr)])\n",
    "fpr, tpr, threshold = metrics.roc_curve(y_test, y_pred_rforest)\n",
    "auc_list1.append(['Random Forest', 'normalization', metrics.auc(fpr, tpr)])"
   ]
  },
  {
   "cell_type": "markdown",
   "metadata": {},
   "source": [
    "### *** Accuracy comparison"
   ]
  },
  {
   "cell_type": "code",
   "execution_count": 52,
   "metadata": {},
   "outputs": [
    {
     "name": "stdout",
     "output_type": "stream",
     "text": [
      "accuracy of different ensemble model\n"
     ]
    },
    {
     "data": {
      "text/html": [
       "<div>\n",
       "<style scoped>\n",
       "    .dataframe tbody tr th:only-of-type {\n",
       "        vertical-align: middle;\n",
       "    }\n",
       "\n",
       "    .dataframe tbody tr th {\n",
       "        vertical-align: top;\n",
       "    }\n",
       "\n",
       "    .dataframe thead th {\n",
       "        text-align: right;\n",
       "    }\n",
       "</style>\n",
       "<table border=\"1\" class=\"dataframe\">\n",
       "  <thead>\n",
       "    <tr style=\"text-align: right;\">\n",
       "      <th></th>\n",
       "      <th></th>\n",
       "      <th>AdaBoost</th>\n",
       "      <th>Gradient Boost</th>\n",
       "      <th>XGBoost</th>\n",
       "      <th>Random Forest</th>\n",
       "    </tr>\n",
       "  </thead>\n",
       "  <tbody>\n",
       "    <tr>\n",
       "      <th>0</th>\n",
       "      <td>normal-split</td>\n",
       "      <td>0.901235</td>\n",
       "      <td>0.913580</td>\n",
       "      <td>0.901235</td>\n",
       "      <td>0.901235</td>\n",
       "    </tr>\n",
       "    <tr>\n",
       "      <th>1</th>\n",
       "      <td>feature-eng</td>\n",
       "      <td>0.851852</td>\n",
       "      <td>0.839506</td>\n",
       "      <td>0.827160</td>\n",
       "      <td>0.888889</td>\n",
       "    </tr>\n",
       "    <tr>\n",
       "      <th>2</th>\n",
       "      <td>normalization</td>\n",
       "      <td>0.839506</td>\n",
       "      <td>0.888889</td>\n",
       "      <td>0.864198</td>\n",
       "      <td>0.888889</td>\n",
       "    </tr>\n",
       "  </tbody>\n",
       "</table>\n",
       "</div>"
      ],
      "text/plain": [
       "                  AdaBoost  Gradient Boost   XGBoost  Random Forest\n",
       "0   normal-split  0.901235        0.913580  0.901235       0.901235\n",
       "1    feature-eng  0.851852        0.839506  0.827160       0.888889\n",
       "2  normalization  0.839506        0.888889  0.864198       0.888889"
      ]
     },
     "execution_count": 52,
     "metadata": {},
     "output_type": "execute_result"
    }
   ],
   "source": [
    "accuracy_list = dict()\n",
    "accuracy_list[''] = ['normal-split', 'feature-eng', 'normalization']\n",
    "for row in rows_list3:\n",
    "    if row[0] not in accuracy_list:\n",
    "        accuracy_list[row[0]] = []\n",
    "    accuracy_list[row[0]].append(row[2])\n",
    "\n",
    "print(\"accuracy of different ensemble model\")\n",
    "pd.DataFrame.from_dict(accuracy_list)"
   ]
  },
  {
   "cell_type": "code",
   "execution_count": 53,
   "metadata": {},
   "outputs": [
    {
     "data": {
      "image/png": "[encoded data removed]",
      "text/plain": [
       "<Figure size 1080x504 with 1 Axes>"
      ]
     },
     "metadata": {
      "needs_background": "light"
     },
     "output_type": "display_data"
    }
   ],
   "source": [
    "performance = pd.DataFrame(rows_list3, columns=['classifier','type','accuracy'])\n",
    "performance.pivot('classifier','type','accuracy').plot(kind='bar', figsize=(15, 7), width=0.8, rot=60) # stacked=True\n",
    "plt.title(\"Accuracy of different ensemble algorithm\")\n",
    "plt.yticks(np.arange(0, 1, step=0.1))\n",
    "plt.ylabel('accuracy')\n",
    "plt.show()"
   ]
  },
  {
   "cell_type": "markdown",
   "metadata": {},
   "source": [
    "### *** AUC comparison"
   ]
  },
  {
   "cell_type": "code",
   "execution_count": 54,
   "metadata": {
    "scrolled": true
   },
   "outputs": [
    {
     "name": "stdout",
     "output_type": "stream",
     "text": [
      "auc of different classifiers\n"
     ]
    },
    {
     "data": {
      "text/html": [
       "<div>\n",
       "<style scoped>\n",
       "    .dataframe tbody tr th:only-of-type {\n",
       "        vertical-align: middle;\n",
       "    }\n",
       "\n",
       "    .dataframe tbody tr th {\n",
       "        vertical-align: top;\n",
       "    }\n",
       "\n",
       "    .dataframe thead th {\n",
       "        text-align: right;\n",
       "    }\n",
       "</style>\n",
       "<table border=\"1\" class=\"dataframe\">\n",
       "  <thead>\n",
       "    <tr style=\"text-align: right;\">\n",
       "      <th></th>\n",
       "      <th></th>\n",
       "      <th>AdaBoost</th>\n",
       "      <th>Gradient Boost</th>\n",
       "      <th>XGBoost</th>\n",
       "      <th>Random Forest</th>\n",
       "    </tr>\n",
       "  </thead>\n",
       "  <tbody>\n",
       "    <tr>\n",
       "      <th>0</th>\n",
       "      <td>normal-split</td>\n",
       "      <td>0.901220</td>\n",
       "      <td>0.913720</td>\n",
       "      <td>0.900610</td>\n",
       "      <td>0.901524</td>\n",
       "    </tr>\n",
       "    <tr>\n",
       "      <th>1</th>\n",
       "      <td>feature-eng</td>\n",
       "      <td>0.855037</td>\n",
       "      <td>0.843673</td>\n",
       "      <td>0.836609</td>\n",
       "      <td>0.889128</td>\n",
       "    </tr>\n",
       "    <tr>\n",
       "      <th>2</th>\n",
       "      <td>normalization</td>\n",
       "      <td>0.841615</td>\n",
       "      <td>0.891925</td>\n",
       "      <td>0.873602</td>\n",
       "      <td>0.895342</td>\n",
       "    </tr>\n",
       "  </tbody>\n",
       "</table>\n",
       "</div>"
      ],
      "text/plain": [
       "                  AdaBoost  Gradient Boost   XGBoost  Random Forest\n",
       "0   normal-split  0.901220        0.913720  0.900610       0.901524\n",
       "1    feature-eng  0.855037        0.843673  0.836609       0.889128\n",
       "2  normalization  0.841615        0.891925  0.873602       0.895342"
      ]
     },
     "execution_count": 54,
     "metadata": {},
     "output_type": "execute_result"
    }
   ],
   "source": [
    "auc_score_list = dict()\n",
    "auc_score_list[''] = ['normal-split', 'feature-eng', 'normalization']\n",
    "for row in auc_list1:\n",
    "    if row[0] not in auc_score_list:\n",
    "        auc_score_list[row[0]] = []\n",
    "    auc_score_list[row[0]].append(row[2])\n",
    "\n",
    "print(\"auc of different classifiers\")\n",
    "pd.DataFrame.from_dict(auc_score_list)"
   ]
  },
  {
   "cell_type": "code",
   "execution_count": 55,
   "metadata": {},
   "outputs": [
    {
     "data": {
      "image/png": "[encoded data removed]",
      "text/plain": [
       "<Figure size 1080x504 with 1 Axes>"
      ]
     },
     "metadata": {
      "needs_background": "light"
     },
     "output_type": "display_data"
    }
   ],
   "source": [
    "performance = pd.DataFrame(auc_list1, columns=['classifier','type','accuracy'])\n",
    "performance.pivot('classifier','type','accuracy').plot(kind='bar', figsize=(15, 7), width=0.8, rot=60) # stacked=True\n",
    "plt.title(\"AUC of different classifier\")\n",
    "plt.yticks(np.arange(0, 1, step=0.1))\n",
    "plt.ylabel('auc')\n",
    "plt.show()"
   ]
  },
  {
   "cell_type": "markdown",
   "metadata": {},
   "source": [
    "### 6.4 Cross validation"
   ]
  },
  {
   "cell_type": "code",
   "execution_count": 56,
   "metadata": {},
   "outputs": [],
   "source": [
    "adaCross = cross_validate(aboost, X, y, cv=4)\n",
    "gradCross = cross_validate(gboost, X, y, cv=4)\n",
    "xgCross = cross_validate(xgboost, X, y, cv=4)\n",
    "rfCross = cross_validate(rforest, X, y, cv=4)"
   ]
  },
  {
   "cell_type": "code",
   "execution_count": 57,
   "metadata": {},
   "outputs": [
    {
     "name": "stdout",
     "output_type": "stream",
     "text": [
      "Accuracy of different ensemble models in cross-validation approach with 4 folds\n"
     ]
    },
    {
     "data": {
      "text/html": [
       "<div>\n",
       "<style scoped>\n",
       "    .dataframe tbody tr th:only-of-type {\n",
       "        vertical-align: middle;\n",
       "    }\n",
       "\n",
       "    .dataframe tbody tr th {\n",
       "        vertical-align: top;\n",
       "    }\n",
       "\n",
       "    .dataframe thead th {\n",
       "        text-align: right;\n",
       "    }\n",
       "</style>\n",
       "<table border=\"1\" class=\"dataframe\">\n",
       "  <thead>\n",
       "    <tr style=\"text-align: right;\">\n",
       "      <th></th>\n",
       "      <th></th>\n",
       "      <th>AdaBoost</th>\n",
       "      <th>GradientBoost</th>\n",
       "      <th>XGBoost</th>\n",
       "      <th>RandomForest</th>\n",
       "    </tr>\n",
       "  </thead>\n",
       "  <tbody>\n",
       "    <tr>\n",
       "      <th>0</th>\n",
       "      <td>cross-validation-1</td>\n",
       "      <td>0.841584</td>\n",
       "      <td>0.910891</td>\n",
       "      <td>0.871287</td>\n",
       "      <td>0.881188</td>\n",
       "    </tr>\n",
       "    <tr>\n",
       "      <th>1</th>\n",
       "      <td>cross-validation-2</td>\n",
       "      <td>0.920792</td>\n",
       "      <td>0.900990</td>\n",
       "      <td>0.900990</td>\n",
       "      <td>0.940594</td>\n",
       "    </tr>\n",
       "    <tr>\n",
       "      <th>2</th>\n",
       "      <td>cross-validation-3</td>\n",
       "      <td>0.881188</td>\n",
       "      <td>0.871287</td>\n",
       "      <td>0.841584</td>\n",
       "      <td>0.881188</td>\n",
       "    </tr>\n",
       "    <tr>\n",
       "      <th>3</th>\n",
       "      <td>cross-validation-4</td>\n",
       "      <td>0.891089</td>\n",
       "      <td>0.891089</td>\n",
       "      <td>0.871287</td>\n",
       "      <td>0.900990</td>\n",
       "    </tr>\n",
       "  </tbody>\n",
       "</table>\n",
       "</div>"
      ],
      "text/plain": [
       "                       AdaBoost  GradientBoost   XGBoost  RandomForest\n",
       "0  cross-validation-1  0.841584       0.910891  0.871287      0.881188\n",
       "1  cross-validation-2  0.920792       0.900990  0.900990      0.940594\n",
       "2  cross-validation-3  0.881188       0.871287  0.841584      0.881188\n",
       "3  cross-validation-4  0.891089       0.891089  0.871287      0.900990"
      ]
     },
     "execution_count": 57,
     "metadata": {},
     "output_type": "execute_result"
    }
   ],
   "source": [
    "rows_list4 = []\n",
    "for i in range(4):\n",
    "    rows_list4.append(['AdaBoost', 'cv'+str(i+1), adaCross['test_score'][i]])\n",
    "    rows_list4.append(['GradientBoost', 'cv'+str(i+1), gradCross['test_score'][i]])\n",
    "    rows_list4.append(['XGBoost', 'cv'+str(i+1), xgCross['test_score'][i]])\n",
    "    rows_list4.append(['RandomForest', 'cv'+str(i+1), rfCross['test_score'][i]])\n",
    "\n",
    "rows_list5 = []\n",
    "for i in range(4):\n",
    "    rows_list5.append(['AdaBoost', 'cv'+str(i+1), adaCross['fit_time'][i]])\n",
    "    rows_list5.append(['GradientBoost', 'cv'+str(i+1), gradCross['fit_time'][i]])\n",
    "    rows_list5.append(['XGBoost', 'cv'+str(i+1), xgCross['fit_time'][i]])\n",
    "    rows_list5.append(['RandomForest', 'cv'+str(i+1), rfCross['fit_time'][i]])\n",
    "\n",
    "accuracy_list = dict()\n",
    "accuracy_list[''] = ['cross-validation-1', 'cross-validation-2', 'cross-validation-3', 'cross-validation-4']\n",
    "for row in rows_list4:\n",
    "    if row[0] not in accuracy_list:\n",
    "        accuracy_list[row[0]] = []\n",
    "    accuracy_list[row[0]].append(row[2])\n",
    "\n",
    "print(\"Accuracy of different ensemble models in cross-validation approach with 4 folds\")\n",
    "pd.DataFrame.from_dict(accuracy_list)\n",
    "# we are using 4 folds here for the cross validation"
   ]
  },
  {
   "cell_type": "code",
   "execution_count": 58,
   "metadata": {},
   "outputs": [
    {
     "name": "stdout",
     "output_type": "stream",
     "text": [
      "Running time of different ensemble models in cross-validation approach with 4 folds\n"
     ]
    },
    {
     "data": {
      "text/html": [
       "<div>\n",
       "<style scoped>\n",
       "    .dataframe tbody tr th:only-of-type {\n",
       "        vertical-align: middle;\n",
       "    }\n",
       "\n",
       "    .dataframe tbody tr th {\n",
       "        vertical-align: top;\n",
       "    }\n",
       "\n",
       "    .dataframe thead th {\n",
       "        text-align: right;\n",
       "    }\n",
       "</style>\n",
       "<table border=\"1\" class=\"dataframe\">\n",
       "  <thead>\n",
       "    <tr style=\"text-align: right;\">\n",
       "      <th></th>\n",
       "      <th></th>\n",
       "      <th>AdaBoost</th>\n",
       "      <th>GradientBoost</th>\n",
       "      <th>XGBoost</th>\n",
       "      <th>RandomForest</th>\n",
       "    </tr>\n",
       "  </thead>\n",
       "  <tbody>\n",
       "    <tr>\n",
       "      <th>0</th>\n",
       "      <td>cross-validation-1</td>\n",
       "      <td>0.092256</td>\n",
       "      <td>0.034224</td>\n",
       "      <td>0.051086</td>\n",
       "      <td>0.116066</td>\n",
       "    </tr>\n",
       "    <tr>\n",
       "      <th>1</th>\n",
       "      <td>cross-validation-2</td>\n",
       "      <td>0.056082</td>\n",
       "      <td>0.031744</td>\n",
       "      <td>0.047616</td>\n",
       "      <td>0.106113</td>\n",
       "    </tr>\n",
       "    <tr>\n",
       "      <th>2</th>\n",
       "      <td>cross-validation-3</td>\n",
       "      <td>0.055072</td>\n",
       "      <td>0.033232</td>\n",
       "      <td>0.055552</td>\n",
       "      <td>0.104157</td>\n",
       "    </tr>\n",
       "    <tr>\n",
       "      <th>3</th>\n",
       "      <td>cross-validation-4</td>\n",
       "      <td>0.057989</td>\n",
       "      <td>0.033728</td>\n",
       "      <td>0.068944</td>\n",
       "      <td>0.102681</td>\n",
       "    </tr>\n",
       "  </tbody>\n",
       "</table>\n",
       "</div>"
      ],
      "text/plain": [
       "                       AdaBoost  GradientBoost   XGBoost  RandomForest\n",
       "0  cross-validation-1  0.092256       0.034224  0.051086      0.116066\n",
       "1  cross-validation-2  0.056082       0.031744  0.047616      0.106113\n",
       "2  cross-validation-3  0.055072       0.033232  0.055552      0.104157\n",
       "3  cross-validation-4  0.057989       0.033728  0.068944      0.102681"
      ]
     },
     "execution_count": 58,
     "metadata": {},
     "output_type": "execute_result"
    }
   ],
   "source": [
    "accuracy_list = dict()\n",
    "accuracy_list[''] = ['cross-validation-1', 'cross-validation-2', 'cross-validation-3', 'cross-validation-4']\n",
    "for row in rows_list5:\n",
    "    if row[0] not in accuracy_list:\n",
    "        accuracy_list[row[0]] = []\n",
    "    accuracy_list[row[0]].append(row[2])\n",
    "\n",
    "print(\"Running time of different ensemble models in cross-validation approach with 4 folds\")\n",
    "pd.DataFrame.from_dict(accuracy_list)\n",
    "# we are using 4 folds here for the cross validation"
   ]
  },
  {
   "cell_type": "code",
   "execution_count": 59,
   "metadata": {},
   "outputs": [
    {
     "data": {
      "image/png": "[encoded data removed]",
      "text/plain": [
       "<Figure size 1080x504 with 1 Axes>"
      ]
     },
     "metadata": {
      "needs_background": "light"
     },
     "output_type": "display_data"
    }
   ],
   "source": [
    "performance = pd.DataFrame(rows_list4, columns=['classifier','type','accuracy'])\n",
    "performance.pivot('classifier','type','accuracy').plot(kind='bar', figsize=(15, 7), width=0.8, rot=60) # stacked=True\n",
    "plt.title(\"Accuracy of different ensemble models for cross validation\")\n",
    "plt.yticks(np.arange(0, 1, step=0.1))\n",
    "plt.ylabel('accuracy')\n",
    "plt.show()"
   ]
  },
  {
   "cell_type": "code",
   "execution_count": 60,
   "metadata": {},
   "outputs": [
    {
     "data": {
      "image/png": "[encoded data removed]",
      "text/plain": [
       "<Figure size 1080x504 with 1 Axes>"
      ]
     },
     "metadata": {
      "needs_background": "light"
     },
     "output_type": "display_data"
    }
   ],
   "source": [
    "performance = pd.DataFrame(rows_list5, columns=['classifier','type','time'])\n",
    "performance.pivot('classifier','type','time').plot(kind='bar', figsize=(15, 7), width=0.8, rot=60) # stacked=True\n",
    "plt.title(\"Running time of different ensemble models for cross validation\")\n",
    "plt.ylabel('execution time')\n",
    "plt.show()"
   ]
  },
  {
   "cell_type": "markdown",
   "metadata": {},
   "source": [
    "## 7. Working with the active players"
   ]
  },
  {
   "cell_type": "markdown",
   "metadata": {},
   "source": [
    "### 7.1 Data collection and cleaning"
   ]
  },
  {
   "cell_type": "markdown",
   "metadata": {},
   "source": [
    "- We collected the data for active players from here: https://stats.nba.com/alltime-leaders/?SeasonType=Regular%20Season&PerMode=PerGame&ActiveFlag=Yes\n",
    "\n",
    "- These data aren't formatted and we couldn't find any source that has the stats as csv, xml or other file format.\n",
    "- That's why we manually copied the file into text editor and then formatted the data using tab.\n",
    "- After that we are now able to read the dataset with pandas using tab as separator. We also added the win_share column manually and collected the column data from https://www.basketball-reference.com/players/. After doing all of that we saved the updated file as csv for further use."
   ]
  },
  {
   "cell_type": "code",
   "execution_count": 61,
   "metadata": {
    "scrolled": false
   },
   "outputs": [
    {
     "name": "stdout",
     "output_type": "stream",
     "text": [
      "(139, 24)\n"
     ]
    },
    {
     "data": {
      "text/html": [
       "<div>\n",
       "<style scoped>\n",
       "    .dataframe tbody tr th:only-of-type {\n",
       "        vertical-align: middle;\n",
       "    }\n",
       "\n",
       "    .dataframe tbody tr th {\n",
       "        vertical-align: top;\n",
       "    }\n",
       "\n",
       "    .dataframe thead th {\n",
       "        text-align: right;\n",
       "    }\n",
       "</style>\n",
       "<table border=\"1\" class=\"dataframe\">\n",
       "  <thead>\n",
       "    <tr style=\"text-align: right;\">\n",
       "      <th></th>\n",
       "      <th>#</th>\n",
       "      <th>PLAYER</th>\n",
       "      <th>GP</th>\n",
       "      <th>MIN</th>\n",
       "      <th>PTS</th>\n",
       "      <th>FGM</th>\n",
       "      <th>FGA</th>\n",
       "      <th>FG%</th>\n",
       "      <th>3PM</th>\n",
       "      <th>3PA</th>\n",
       "      <th>...</th>\n",
       "      <th>OREB</th>\n",
       "      <th>DREB</th>\n",
       "      <th>REB</th>\n",
       "      <th>AST</th>\n",
       "      <th>STL</th>\n",
       "      <th>BLK</th>\n",
       "      <th>TOV</th>\n",
       "      <th>EFG%</th>\n",
       "      <th>TS%</th>\n",
       "      <th>Win Shares</th>\n",
       "    </tr>\n",
       "  </thead>\n",
       "  <tbody>\n",
       "    <tr>\n",
       "      <th>0</th>\n",
       "      <td>1</td>\n",
       "      <td>LeBron James</td>\n",
       "      <td>1,209</td>\n",
       "      <td>38.6</td>\n",
       "      <td>27.1</td>\n",
       "      <td>9.9</td>\n",
       "      <td>19.6</td>\n",
       "      <td>50.4</td>\n",
       "      <td>1.4</td>\n",
       "      <td>4.2</td>\n",
       "      <td>...</td>\n",
       "      <td>1.2</td>\n",
       "      <td>6.2</td>\n",
       "      <td>7.4</td>\n",
       "      <td>7.3</td>\n",
       "      <td>1.6</td>\n",
       "      <td>0.8</td>\n",
       "      <td>3.5</td>\n",
       "      <td>54.1</td>\n",
       "      <td>58.6</td>\n",
       "      <td>228.9</td>\n",
       "    </tr>\n",
       "    <tr>\n",
       "      <th>1</th>\n",
       "      <td>2</td>\n",
       "      <td>Kevin Durant</td>\n",
       "      <td>849</td>\n",
       "      <td>36.9</td>\n",
       "      <td>27.0</td>\n",
       "      <td>9.2</td>\n",
       "      <td>18.7</td>\n",
       "      <td>49.3</td>\n",
       "      <td>1.8</td>\n",
       "      <td>4.9</td>\n",
       "      <td>...</td>\n",
       "      <td>0.7</td>\n",
       "      <td>6.3</td>\n",
       "      <td>7.1</td>\n",
       "      <td>4.1</td>\n",
       "      <td>1.1</td>\n",
       "      <td>1.1</td>\n",
       "      <td>3.1</td>\n",
       "      <td>54.2</td>\n",
       "      <td>61.3</td>\n",
       "      <td>141.7</td>\n",
       "    </tr>\n",
       "    <tr>\n",
       "      <th>2</th>\n",
       "      <td>3</td>\n",
       "      <td>James Harden</td>\n",
       "      <td>776</td>\n",
       "      <td>34.2</td>\n",
       "      <td>24.5</td>\n",
       "      <td>7.2</td>\n",
       "      <td>16.3</td>\n",
       "      <td>44.2</td>\n",
       "      <td>2.7</td>\n",
       "      <td>7.4</td>\n",
       "      <td>...</td>\n",
       "      <td>0.8</td>\n",
       "      <td>4.5</td>\n",
       "      <td>5.2</td>\n",
       "      <td>6.2</td>\n",
       "      <td>1.6</td>\n",
       "      <td>0.5</td>\n",
       "      <td>3.7</td>\n",
       "      <td>52.4</td>\n",
       "      <td>60.9</td>\n",
       "      <td>124.3</td>\n",
       "    </tr>\n",
       "    <tr>\n",
       "      <th>3</th>\n",
       "      <td>4</td>\n",
       "      <td>Anthony Davis</td>\n",
       "      <td>476</td>\n",
       "      <td>34.6</td>\n",
       "      <td>23.8</td>\n",
       "      <td>8.9</td>\n",
       "      <td>17.3</td>\n",
       "      <td>51.6</td>\n",
       "      <td>0.4</td>\n",
       "      <td>1.3</td>\n",
       "      <td>...</td>\n",
       "      <td>2.6</td>\n",
       "      <td>7.9</td>\n",
       "      <td>10.5</td>\n",
       "      <td>2.1</td>\n",
       "      <td>1.4</td>\n",
       "      <td>2.4</td>\n",
       "      <td>1.9</td>\n",
       "      <td>52.8</td>\n",
       "      <td>58.5</td>\n",
       "      <td>73.9</td>\n",
       "    </tr>\n",
       "    <tr>\n",
       "      <th>4</th>\n",
       "      <td>5</td>\n",
       "      <td>Damian Lillard</td>\n",
       "      <td>561</td>\n",
       "      <td>36.3</td>\n",
       "      <td>23.7</td>\n",
       "      <td>7.8</td>\n",
       "      <td>18.0</td>\n",
       "      <td>43.5</td>\n",
       "      <td>2.8</td>\n",
       "      <td>7.5</td>\n",
       "      <td>...</td>\n",
       "      <td>0.6</td>\n",
       "      <td>3.6</td>\n",
       "      <td>4.2</td>\n",
       "      <td>6.3</td>\n",
       "      <td>1.0</td>\n",
       "      <td>0.3</td>\n",
       "      <td>2.8</td>\n",
       "      <td>51.2</td>\n",
       "      <td>57.4</td>\n",
       "      <td>72.9</td>\n",
       "    </tr>\n",
       "  </tbody>\n",
       "</table>\n",
       "<p>5 rows × 24 columns</p>\n",
       "</div>"
      ],
      "text/plain": [
       "   #          PLAYER     GP   MIN   PTS  FGM   FGA   FG%  3PM  3PA  ...  OREB  \\\n",
       "0  1    LeBron James  1,209  38.6  27.1  9.9  19.6  50.4  1.4  4.2  ...   1.2   \n",
       "1  2    Kevin Durant    849  36.9  27.0  9.2  18.7  49.3  1.8  4.9  ...   0.7   \n",
       "2  3    James Harden    776  34.2  24.5  7.2  16.3  44.2  2.7  7.4  ...   0.8   \n",
       "3  4   Anthony Davis    476  34.6  23.8  8.9  17.3  51.6  0.4  1.3  ...   2.6   \n",
       "4  5  Damian Lillard    561  36.3  23.7  7.8  18.0  43.5  2.8  7.5  ...   0.6   \n",
       "\n",
       "   DREB   REB  AST  STL  BLK  TOV  EFG%   TS%  Win Shares  \n",
       "0   6.2   7.4  7.3  1.6  0.8  3.5  54.1  58.6       228.9  \n",
       "1   6.3   7.1  4.1  1.1  1.1  3.1  54.2  61.3       141.7  \n",
       "2   4.5   5.2  6.2  1.6  0.5  3.7  52.4  60.9       124.3  \n",
       "3   7.9  10.5  2.1  1.4  2.4  1.9  52.8  58.5        73.9  \n",
       "4   3.6   4.2  6.3  1.0  0.3  2.8  51.2  57.4        72.9  \n",
       "\n",
       "[5 rows x 24 columns]"
      ]
     },
     "execution_count": 61,
     "metadata": {},
     "output_type": "execute_result"
    }
   ],
   "source": [
    "active_players = pd.read_csv(\"data/nba-active-players.csv\")\n",
    "print(active_players.shape)\n",
    "active_players.head()"
   ]
  },
  {
   "cell_type": "code",
   "execution_count": 62,
   "metadata": {},
   "outputs": [
    {
     "data": {
      "text/plain": [
       "#             0\n",
       "PLAYER        0\n",
       "GP            0\n",
       "MIN           0\n",
       "PTS           0\n",
       "FGM           0\n",
       "FGA           0\n",
       "FG%           0\n",
       "3PM           0\n",
       "3PA           0\n",
       "3P%           0\n",
       "FTM           0\n",
       "FTA           0\n",
       "FT%           0\n",
       "OREB          0\n",
       "DREB          0\n",
       "REB           0\n",
       "AST           0\n",
       "STL           0\n",
       "BLK           0\n",
       "TOV           0\n",
       "EFG%          0\n",
       "TS%           0\n",
       "Win Shares    2\n",
       "dtype: int64"
      ]
     },
     "execution_count": 62,
     "metadata": {},
     "output_type": "execute_result"
    }
   ],
   "source": [
    "active_players.isnull().sum()"
   ]
  },
  {
   "cell_type": "markdown",
   "metadata": {},
   "source": [
    "- There are some null values in win_share column, because of the missing data. We will remove these players."
   ]
  },
  {
   "cell_type": "code",
   "execution_count": 63,
   "metadata": {},
   "outputs": [
    {
     "data": {
      "text/plain": [
       "(137, 24)"
      ]
     },
     "execution_count": 63,
     "metadata": {},
     "output_type": "execute_result"
    }
   ],
   "source": [
    "active_players = active_players.dropna()\n",
    "active_players.shape"
   ]
  },
  {
   "cell_type": "markdown",
   "metadata": {},
   "source": [
    "#### Let's filter the data and make the same format as previous datasets"
   ]
  },
  {
   "cell_type": "code",
   "execution_count": 64,
   "metadata": {},
   "outputs": [
    {
     "data": {
      "text/plain": [
       "Index(['#', 'PLAYER', 'GP', 'MIN', 'PTS', 'FGM', 'FGA', 'FG%', '3PM', '3PA',\n",
       "       '3P%', 'FTM', 'FTA', 'FT%', 'OREB', 'DREB', 'REB', 'AST', 'STL', 'BLK',\n",
       "       'TOV', 'EFG%', 'TS%', 'Win Shares'],\n",
       "      dtype='object')"
      ]
     },
     "execution_count": 64,
     "metadata": {},
     "output_type": "execute_result"
    }
   ],
   "source": [
    "active_players.columns"
   ]
  },
  {
   "cell_type": "markdown",
   "metadata": {},
   "source": [
    "#### Rename and reorder the columns"
   ]
  },
  {
   "cell_type": "code",
   "execution_count": 65,
   "metadata": {},
   "outputs": [
    {
     "data": {
      "text/plain": [
       "Index(['year', 'name', 'games', 'points', 'total_rebounds', 'assists',\n",
       "       'steals', 'blocks', 'field_goal', '3_point_field_goal', 'free_throw',\n",
       "       'win_shares', 'win_shares_per_48_mins', 'class'],\n",
       "      dtype='object')"
      ]
     },
     "execution_count": 65,
     "metadata": {},
     "output_type": "execute_result"
    }
   ],
   "source": [
    "data.columns"
   ]
  },
  {
   "cell_type": "code",
   "execution_count": 66,
   "metadata": {},
   "outputs": [],
   "source": [
    "active_players = active_players.drop(columns=['#', 'MIN', 'FGM', 'FGA', '3PM', '3PA', 'FTM', 'FTA', 'OREB', 'DREB',\n",
    "                                              'TOV', 'EFG%', 'TS%'])\n",
    "active_players.rename(columns={'PLAYER':'name', 'GP':'games', 'PTS':'points', 'REB':'total_rebounds',\n",
    "                                'AST':'assists', 'STL':'steals', 'BLK':'blocks', 'FG%':'field_goal',\n",
    "                                '3P%':'3_point_field_goal', 'FT%':'free_throw', 'Win Shares':'win_shares'}, inplace=True)\n",
    "cols = ['name','games','points','total_rebounds','assists','steals','blocks','field_goal','3_point_field_goal',\n",
    "        'free_throw','win_shares']\n",
    "active_players = active_players[cols]"
   ]
  },
  {
   "cell_type": "code",
   "execution_count": 67,
   "metadata": {},
   "outputs": [
    {
     "name": "stdout",
     "output_type": "stream",
     "text": [
      "(137, 11)\n"
     ]
    },
    {
     "data": {
      "text/html": [
       "<div>\n",
       "<style scoped>\n",
       "    .dataframe tbody tr th:only-of-type {\n",
       "        vertical-align: middle;\n",
       "    }\n",
       "\n",
       "    .dataframe tbody tr th {\n",
       "        vertical-align: top;\n",
       "    }\n",
       "\n",
       "    .dataframe thead th {\n",
       "        text-align: right;\n",
       "    }\n",
       "</style>\n",
       "<table border=\"1\" class=\"dataframe\">\n",
       "  <thead>\n",
       "    <tr style=\"text-align: right;\">\n",
       "      <th></th>\n",
       "      <th>name</th>\n",
       "      <th>games</th>\n",
       "      <th>points</th>\n",
       "      <th>total_rebounds</th>\n",
       "      <th>assists</th>\n",
       "      <th>steals</th>\n",
       "      <th>blocks</th>\n",
       "      <th>field_goal</th>\n",
       "      <th>3_point_field_goal</th>\n",
       "      <th>free_throw</th>\n",
       "      <th>win_shares</th>\n",
       "    </tr>\n",
       "  </thead>\n",
       "  <tbody>\n",
       "    <tr>\n",
       "      <th>0</th>\n",
       "      <td>LeBron James</td>\n",
       "      <td>1209</td>\n",
       "      <td>27.1</td>\n",
       "      <td>7.4</td>\n",
       "      <td>7.3</td>\n",
       "      <td>1.6</td>\n",
       "      <td>0.8</td>\n",
       "      <td>0.504</td>\n",
       "      <td>0.343</td>\n",
       "      <td>0.736</td>\n",
       "      <td>228.9</td>\n",
       "    </tr>\n",
       "    <tr>\n",
       "      <th>1</th>\n",
       "      <td>Kevin Durant</td>\n",
       "      <td>849</td>\n",
       "      <td>27.0</td>\n",
       "      <td>7.1</td>\n",
       "      <td>4.1</td>\n",
       "      <td>1.1</td>\n",
       "      <td>1.1</td>\n",
       "      <td>0.493</td>\n",
       "      <td>0.381</td>\n",
       "      <td>0.883</td>\n",
       "      <td>141.7</td>\n",
       "    </tr>\n",
       "    <tr>\n",
       "      <th>2</th>\n",
       "      <td>James Harden</td>\n",
       "      <td>776</td>\n",
       "      <td>24.5</td>\n",
       "      <td>5.2</td>\n",
       "      <td>6.2</td>\n",
       "      <td>1.6</td>\n",
       "      <td>0.5</td>\n",
       "      <td>0.442</td>\n",
       "      <td>0.364</td>\n",
       "      <td>0.858</td>\n",
       "      <td>124.3</td>\n",
       "    </tr>\n",
       "    <tr>\n",
       "      <th>3</th>\n",
       "      <td>Anthony Davis</td>\n",
       "      <td>476</td>\n",
       "      <td>23.8</td>\n",
       "      <td>10.5</td>\n",
       "      <td>2.1</td>\n",
       "      <td>1.4</td>\n",
       "      <td>2.4</td>\n",
       "      <td>0.516</td>\n",
       "      <td>0.313</td>\n",
       "      <td>0.797</td>\n",
       "      <td>73.9</td>\n",
       "    </tr>\n",
       "    <tr>\n",
       "      <th>4</th>\n",
       "      <td>Damian Lillard</td>\n",
       "      <td>561</td>\n",
       "      <td>23.7</td>\n",
       "      <td>4.2</td>\n",
       "      <td>6.3</td>\n",
       "      <td>1.0</td>\n",
       "      <td>0.3</td>\n",
       "      <td>0.435</td>\n",
       "      <td>0.369</td>\n",
       "      <td>0.890</td>\n",
       "      <td>72.9</td>\n",
       "    </tr>\n",
       "  </tbody>\n",
       "</table>\n",
       "</div>"
      ],
      "text/plain": [
       "             name games  points  total_rebounds  assists  steals  blocks  \\\n",
       "0    LeBron James  1209    27.1             7.4      7.3     1.6     0.8   \n",
       "1    Kevin Durant   849    27.0             7.1      4.1     1.1     1.1   \n",
       "2    James Harden   776    24.5             5.2      6.2     1.6     0.5   \n",
       "3   Anthony Davis   476    23.8            10.5      2.1     1.4     2.4   \n",
       "4  Damian Lillard   561    23.7             4.2      6.3     1.0     0.3   \n",
       "\n",
       "   field_goal  3_point_field_goal  free_throw  win_shares  \n",
       "0       0.504               0.343       0.736       228.9  \n",
       "1       0.493               0.381       0.883       141.7  \n",
       "2       0.442               0.364       0.858       124.3  \n",
       "3       0.516               0.313       0.797        73.9  \n",
       "4       0.435               0.369       0.890        72.9  "
      ]
     },
     "execution_count": 67,
     "metadata": {},
     "output_type": "execute_result"
    }
   ],
   "source": [
    "active_players['games'] = active_players['games'].str.replace(',', '')\n",
    "active_players['field_goal'] = active_players['field_goal'] / 100\n",
    "active_players['3_point_field_goal'] = active_players['3_point_field_goal'] / 100\n",
    "active_players['free_throw'] = active_players['free_throw'] / 100\n",
    "print(active_players.shape)\n",
    "active_players.head()"
   ]
  },
  {
   "cell_type": "markdown",
   "metadata": {},
   "source": [
    "### 7.2 Use logistic regression to predict the current players being in the hall-of-fame list"
   ]
  },
  {
   "cell_type": "markdown",
   "metadata": {},
   "source": [
    "- As our active player list doesn't have any win_shares_per_48_mins column, we will remove it from hall-of-fame players and candidate list"
   ]
  },
  {
   "cell_type": "code",
   "execution_count": 68,
   "metadata": {},
   "outputs": [],
   "source": [
    "data_new = data_all.drop(columns=['win_shares_per_48_mins'])\n",
    "\n",
    "# extract underlying numpy arrays\n",
    "X = data_new.iloc[:,2:-1].values   \n",
    "y = np.ravel(data_new.iloc[:,-1:].values)"
   ]
  },
  {
   "cell_type": "code",
   "execution_count": 69,
   "metadata": {},
   "outputs": [
    {
     "data": {
      "text/html": [
       "<div>\n",
       "<style scoped>\n",
       "    .dataframe tbody tr th:only-of-type {\n",
       "        vertical-align: middle;\n",
       "    }\n",
       "\n",
       "    .dataframe tbody tr th {\n",
       "        vertical-align: top;\n",
       "    }\n",
       "\n",
       "    .dataframe thead th {\n",
       "        text-align: right;\n",
       "    }\n",
       "</style>\n",
       "<table border=\"1\" class=\"dataframe\">\n",
       "  <thead>\n",
       "    <tr style=\"text-align: right;\">\n",
       "      <th></th>\n",
       "      <th>name</th>\n",
       "      <th>pred_logreg</th>\n",
       "    </tr>\n",
       "  </thead>\n",
       "  <tbody>\n",
       "    <tr>\n",
       "      <th>0</th>\n",
       "      <td>LeBron James</td>\n",
       "      <td>1</td>\n",
       "    </tr>\n",
       "    <tr>\n",
       "      <th>1</th>\n",
       "      <td>Kevin Durant</td>\n",
       "      <td>1</td>\n",
       "    </tr>\n",
       "    <tr>\n",
       "      <th>2</th>\n",
       "      <td>James Harden</td>\n",
       "      <td>1</td>\n",
       "    </tr>\n",
       "    <tr>\n",
       "      <th>3</th>\n",
       "      <td>Anthony Davis</td>\n",
       "      <td>1</td>\n",
       "    </tr>\n",
       "    <tr>\n",
       "      <th>4</th>\n",
       "      <td>Damian Lillard</td>\n",
       "      <td>1</td>\n",
       "    </tr>\n",
       "  </tbody>\n",
       "</table>\n",
       "</div>"
      ],
      "text/plain": [
       "             name  pred_logreg\n",
       "0    LeBron James            1\n",
       "1    Kevin Durant            1\n",
       "2    James Harden            1\n",
       "3   Anthony Davis            1\n",
       "4  Damian Lillard            1"
      ]
     },
     "execution_count": 69,
     "metadata": {},
     "output_type": "execute_result"
    }
   ],
   "source": [
    "logreg = LogisticRegression()\n",
    "\n",
    "logreg.fit(X, y)\n",
    "\n",
    "pred_logreg = logreg.predict(active_players.iloc[:,1:].values)\n",
    "\n",
    "active_prediction = active_players.iloc[:,0:1]\n",
    "active_prediction['pred_logreg'] = pred_logreg\n",
    "active_prediction.head()"
   ]
  },
  {
   "cell_type": "markdown",
   "metadata": {},
   "source": [
    "- as we can see, the classifier predicts a lot of players to be in the hall of fame, although it's not gonna happen. Because to be in the hall of fame, a player first need to be in the candidate list. We didn't train our model to predict the candidacy probability of players."
   ]
  },
  {
   "cell_type": "markdown",
   "metadata": {},
   "source": [
    "### 7.3 Confusion matrix for the active players"
   ]
  },
  {
   "cell_type": "code",
   "execution_count": 70,
   "metadata": {
    "scrolled": true
   },
   "outputs": [
    {
     "data": {
      "image/png": "[encoded data removed]",
      "text/plain": [
       "<Figure size 432x288 with 2 Axes>"
      ]
     },
     "metadata": {
      "needs_background": "light"
     },
     "output_type": "display_data"
    }
   ],
   "source": [
    "X_train, X_test, y_train, y_test = train_test_split(X, y, test_size=0.20)\n",
    "\n",
    "logreg.fit(X_train, y_train)\n",
    "y_pred_logreg = logreg.predict(X_test)\n",
    "cm = metrics.confusion_matrix(y_test, y_pred_logreg)\n",
    "\n",
    "ax= plt.subplot()\n",
    "sns.heatmap(cm, annot=True, ax = ax); #annot=True to annotate cells\n",
    "\n",
    "# labels, title and ticks\n",
    "ax.set_xlabel('Predicted labels');\n",
    "ax.set_ylabel('True labels'); \n",
    "ax.set_title('Confusion Matrix'); \n",
    "\n",
    "plt.show()"
   ]
  },
  {
   "cell_type": "markdown",
   "metadata": {},
   "source": [
    "### 7.4 ROC curve for the active players"
   ]
  },
  {
   "cell_type": "code",
   "execution_count": 71,
   "metadata": {},
   "outputs": [
    {
     "data": {
      "image/png": "[encoded data removed]",
      "text/plain": [
       "<Figure size 432x288 with 1 Axes>"
      ]
     },
     "metadata": {
      "needs_background": "light"
     },
     "output_type": "display_data"
    }
   ],
   "source": [
    "prob_logreg = logreg.predict_proba(X_test)\n",
    "predictions = prob_logreg[:,1]\n",
    "fpr, tpr, threshold = metrics.roc_curve(y_test, predictions)\n",
    "roc_auc = metrics.auc(fpr, tpr)\n",
    "\n",
    "plt.title('Receiver Operating Characteristic')\n",
    "plt.plot(fpr, tpr, 'b', label = 'AUC = %0.2f' % roc_auc)\n",
    "plt.legend(loc = 'lower right')\n",
    "plt.plot([0, 1], [0, 1],'r--')\n",
    "plt.xlim([0, 1])\n",
    "plt.ylim([0, 1])\n",
    "plt.ylabel('True Positive Rate')\n",
    "plt.xlabel('False Positive Rate')\n",
    "plt.show()"
   ]
  },
  {
   "cell_type": "code",
   "execution_count": 72,
   "metadata": {},
   "outputs": [
    {
     "name": "stdout",
     "output_type": "stream",
     "text": [
      "It took 32.11723518371582 seconds to process\n"
     ]
    }
   ],
   "source": [
    "print(\"It took %s seconds to process\" % (time.time() - start_time))"
   ]
  }
 ],
 "metadata": {
  "kernelspec": {
   "display_name": "Python 3",
   "language": "python",
   "name": "python3"
  },
  "language_info": {
   "codemirror_mode": {
    "name": "ipython",
    "version": 3
   },
   "file_extension": ".py",
   "mimetype": "text/x-python",
   "name": "python",
   "nbconvert_exporter": "python",
   "pygments_lexer": "ipython3",
   "version": "3.7.5"
  }
 },
 "nbformat": 4,
 "nbformat_minor": 2
}
